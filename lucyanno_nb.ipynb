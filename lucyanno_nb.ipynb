{
 "cells": [
  {
   "cell_type": "markdown",
   "metadata": {},
   "source": [
    "# Load Image"
   ]
  },
  {
   "cell_type": "code",
   "execution_count": 19,
   "metadata": {},
   "outputs": [
    {
     "name": "stdout",
     "output_type": "stream",
     "text": [
      "   0    1    2    3    4    5    6    7    8    9    ...  774  775  776  777  \\\n",
      "0    0    0    0    0    0    1    0    0    0    0  ...  119  114  130   76   \n",
      "\n",
      "   778  779  780  781  782  783  \n",
      "0    0    0    0    0    0    0  \n",
      "\n",
      "[1 rows x 784 columns]\n"
     ]
    },
    {
     "data": {
      "text/plain": [
       "<matplotlib.image.AxesImage at 0x1ed2a58c8e0>"
      ]
     },
     "execution_count": 19,
     "metadata": {},
     "output_type": "execute_result"
    },
    {
     "data": {
      "image/png": "[encoded data removed]",
      "text/plain": [
       "<Figure size 432x288 with 1 Axes>"
      ]
     },
     "metadata": {
      "needs_background": "light"
     },
     "output_type": "display_data"
    },
    {
     "data": {
      "image/png": "[encoded data removed]",
      "text/plain": [
       "<Figure size 432x288 with 1 Axes>"
      ]
     },
     "metadata": {
      "needs_background": "light"
     },
     "output_type": "display_data"
    }
   ],
   "source": [
    "import feature_extraction as fe\n",
    "import cv2\n",
    "import numpy as np\n",
    "import matplotlib.pyplot as plt\n",
    "import pandas as pd\n",
    "#matplotlib inline  # if you are running this code in Jupyter notebook\n",
    "\n",
    "img = cv2.imread('dataset_train/real/image_1.png', 0)\n",
    "\n",
    "# Serialize img\n",
    "flat = fe.feature_SerializedImg(img)\n",
    "\n",
    "df = pd.DataFrame(flat.reshape(1,flat.shape[0]))\n",
    "\n",
    "\n",
    "print(df)\n",
    "\n",
    "\n",
    "# flat = flat.reshape(flat.shape[0],1)\n",
    "# print(flat.shape)\n",
    "plt.imshow(img, cmap='gray')\n",
    "\n",
    "plt.figure()\n",
    "\n",
    "blur = cv2.Canny(img,100,200)\n",
    "\n",
    "plt.imshow(blur, cmap='gray')\n",
    "\n",
    "# print(fe.feature_colorMean(img))\n"
   ]
  }
 ],
 "metadata": {
  "interpreter": {
   "hash": "6ec01e77c96c9171e407cfb31889f67e9dc04066a09f3d98ca88bf47e6432c95"
  },
  "kernelspec": {
   "display_name": "Python 3.8.12 ('ACA')",
   "language": "python",
   "name": "python3"
  },
  "language_info": {
   "codemirror_mode": {
    "name": "ipython",
    "version": 3
   },
   "file_extension": ".py",
   "mimetype": "text/x-python",
   "name": "python",
   "nbconvert_exporter": "python",
   "pygments_lexer": "ipython3",
   "version": "3.8.12"
  },
  "orig_nbformat": 4
 },
 "nbformat": 4,
 "nbformat_minor": 2
}
