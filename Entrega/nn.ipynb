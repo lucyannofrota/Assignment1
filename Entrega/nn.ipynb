{
 "cells": [
  {
   "cell_type": "code",
   "execution_count": 3,
   "metadata": {},
   "outputs": [],
   "source": [
    "import torch\n",
    "import torch.nn as nn\n",
    "import torch.optim as opt\n",
    "import torch.nn.functional as fun\n",
    "import numpy as np\n",
    "import pandas as pd"
   ]
  },
  {
   "cell_type": "markdown",
   "metadata": {},
   "source": [
    "# Load do dataset"
   ]
  },
  {
   "cell_type": "code",
   "execution_count": 4,
   "metadata": {},
   "outputs": [],
   "source": [
    "from lib.data import load_dataset\n",
    "\n",
    "rs = 2\n",
    "\n",
    "x_train, y_train, x_valid, y_valid = load_dataset('dts/dts_all/train.csv',rs=rs)\n",
    "x_test = load_dataset('dts/dts_all/test.csv',test_only=True,rs=rs)"
   ]
  },
  {
   "cell_type": "markdown",
   "metadata": {},
   "source": [
    "# Normalização"
   ]
  },
  {
   "cell_type": "code",
   "execution_count": 5,
   "metadata": {},
   "outputs": [],
   "source": [
    "from sklearn.preprocessing import StandardScaler\n",
    "from my_nn import dts\n",
    "\n",
    "sc = StandardScaler()\n",
    "sc.fit(x_train.values)\n",
    "\n",
    "x_train = sc.transform(x_train.values)\n",
    "x_valid = sc.transform(x_valid.values)\n",
    "x_test = sc.transform(x_test.values)"
   ]
  },
  {
   "cell_type": "markdown",
   "metadata": {},
   "source": [
    "# Feature Selection"
   ]
  },
  {
   "cell_type": "code",
   "execution_count": 6,
   "metadata": {},
   "outputs": [],
   "source": [
    "from sklearn.feature_selection import SelectFromModel\n",
    "from sklearn.linear_model import LogisticRegression\n",
    "\n",
    "selec_mod = SelectFromModel(estimator=LogisticRegression(random_state=rs, max_iter=2000)).fit(x_train, y_train)\n",
    "\n",
    "x_train = selec_mod.transform(x_train)\n",
    "x_valid = selec_mod.transform(x_valid)\n",
    "x_test = selec_mod.transform(x_test)"
   ]
  },
  {
   "cell_type": "markdown",
   "metadata": {},
   "source": [
    "# Dataloaders"
   ]
  },
  {
   "cell_type": "code",
   "execution_count": 7,
   "metadata": {},
   "outputs": [],
   "source": [
    "from torch.utils.data import DataLoader\n",
    "train_dts = dts(x_train,y_train)\n",
    "valid_dts = dts(x_valid,y_valid)\n",
    "\n",
    "training_loader = DataLoader(train_dts, batch_size=32, shuffle=True)\n",
    "valid_loader = DataLoader(valid_dts, batch_size=32, shuffle=True)"
   ]
  },
  {
   "cell_type": "code",
   "execution_count": 8,
   "metadata": {},
   "outputs": [],
   "source": [
    "from my_nn import nnModel\n",
    "\n",
    "model = nnModel(inFeatures = x_train.shape[1], random_state=2)\n",
    "\n",
    "losses, accs = model.fit(\n",
    "    trainloader=training_loader,\n",
    "    validloader=valid_loader,\n",
    "    learningRate=0.02,\n",
    "    momentum=0.9,\n",
    "    gamma=0.97,\n",
    "    numEpochs=31,\n",
    "    verbose=False\n",
    ")"
   ]
  },
  {
   "cell_type": "code",
   "execution_count": 9,
   "metadata": {},
   "outputs": [
    {
     "name": "stdout",
     "output_type": "stream",
     "text": [
      "[317.55787336826324, 148.5313034178689, 101.23674896219745, 76.28170832176693, 64.8421388163697, 49.26658786213375, 36.33276155762724, 30.051663950252987, 30.36737964621716, 25.243738389652208, 18.12520775736084, 17.42363931540376, 19.92515180184421, 19.579402021970054, 9.927372811906253, 4.508216697681576, 7.222082515438046, 4.2086169513601845, 6.114327610651607, 6.299342768097262, 3.375550937635161, 3.2719125044706487, 3.2387427858969855, 3.2225191133675715, 3.210673897345764, 3.2013040924209326, 3.1942579265086266, 3.183910099662712, 3.179598279294734, 3.1756801697617765, 3.1727374194107245]\n",
      "[96.675, 97.1875, 98.075, 98.1625, 98.3, 98.325]\n"
     ]
    },
    {
     "data": {
      "text/plain": [
       "[<matplotlib.lines.Line2D at 0x157e25b86a0>]"
      ]
     },
     "execution_count": 9,
     "metadata": {},
     "output_type": "execute_result"
    },
    {
     "data": {
      "image/png": "[encoded data removed]",
      "text/plain": [
       "<Figure size 432x288 with 1 Axes>"
      ]
     },
     "metadata": {
      "needs_background": "light"
     },
     "output_type": "display_data"
    },
    {
     "data": {
      "image/png": "[encoded data removed]",
      "text/plain": [
       "<Figure size 432x288 with 1 Axes>"
      ]
     },
     "metadata": {
      "needs_background": "light"
     },
     "output_type": "display_data"
    }
   ],
   "source": [
    "print(losses)\n",
    "print(accs)\n",
    "\n",
    "from matplotlib import pyplot as plt\n",
    "plt.figure()\n",
    "plt.plot(losses)\n",
    "plt.figure()\n",
    "plt.plot(accs)"
   ]
  },
  {
   "cell_type": "code",
   "execution_count": 10,
   "metadata": {},
   "outputs": [
    {
     "name": "stdout",
     "output_type": "stream",
     "text": [
      "Acc: 0.983\n",
      "ROC: 0.983\n",
      "Acc: 0.987\n",
      "Acc: 0.979\n"
     ]
    }
   ],
   "source": [
    "from sklearn.metrics import accuracy_score\n",
    "from sklearn.metrics import roc_auc_score\n",
    "from sklearn.metrics import precision_score\n",
    "from sklearn.metrics import recall_score\n",
    "\n",
    "yvalid = model.predict(torch.tensor(x_valid, dtype=torch.float32))\n",
    "\n",
    "print(\"Acc: {:.3f}\".format(accuracy_score(y_true=y_valid, y_pred=yvalid)))\n",
    "print(\"ROC: {:.3f}\".format(roc_auc_score(y_valid, yvalid)))\n",
    "print(\"Acc: {:.3f}\".format(precision_score(y_true=y_valid, y_pred=yvalid)))\n",
    "print(\"Acc: {:.3f}\".format(recall_score(y_true=y_valid, y_pred=yvalid)))"
   ]
  },
  {
   "cell_type": "code",
   "execution_count": 11,
   "metadata": {},
   "outputs": [],
   "source": [
    "ypred = model.predict(torch.tensor(x_test, dtype=torch.float32))\n",
    "import pandas as pd\n",
    "result = pd.DataFrame(data={\n",
    "        \"Id\": range(len(ypred)),\n",
    "        \"Category\": ypred.astype(int)\n",
    "    }, index=None)\n",
    "\n",
    "result.to_csv(\"result.csv\", index=None)"
   ]
  }
 ],
 "metadata": {
  "interpreter": {
   "hash": "c349800ab1092d4b3f35027ef3e9cb37588dc5fe259e1d63272c5151b379ad97"
  },
  "kernelspec": {
   "display_name": "Python 3.8.12 ('ACA')",
   "language": "python",
   "name": "python3"
  },
  "language_info": {
   "codemirror_mode": {
    "name": "ipython",
    "version": 3
   },
   "file_extension": ".py",
   "mimetype": "text/x-python",
   "name": "python",
   "nbconvert_exporter": "python",
   "pygments_lexer": "ipython3",
   "version": "3.8.12"
  },
  "orig_nbformat": 4
 },
 "nbformat": 4,
 "nbformat_minor": 2
}
