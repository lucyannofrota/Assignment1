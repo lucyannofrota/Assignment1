{
 "cells": [
  {
   "cell_type": "markdown",
   "metadata": {},
   "source": [
    "#### Load Train Set"
   ]
  },
  {
   "cell_type": "code",
   "execution_count": 1,
   "metadata": {},
   "outputs": [],
   "source": [
    "import pandas as pd\n",
    "import numpy as np\n",
    "from lib.data import load_dataset\n",
    "\n",
    "plain = False # Quero só a imagem serializada?\n",
    "if plain:\n",
    "    path = 'dts/dts_plain/'\n",
    "else:\n",
    "    path = 'dts/dts_all/'\n",
    "\n",
    "rs = 2\n",
    "x_train, y_train, x_valid, y_valid = load_dataset(path + 'train.csv', rs=rs)"
   ]
  },
  {
   "cell_type": "markdown",
   "metadata": {},
   "source": [
    "#### Definição da pipeline\n",
    "- Definição do normalizador\n",
    "- Definição do seletor de features\n",
    "- Definição do random forest classifier"
   ]
  },
  {
   "cell_type": "code",
   "execution_count": 4,
   "metadata": {},
   "outputs": [
    {
     "name": "stderr",
     "output_type": "stream",
     "text": [
      "d:\\ProgramData\\Anaconda3\\envs\\ACA\\lib\\site-packages\\sklearn\\linear_model\\_logistic.py:814: ConvergenceWarning: lbfgs failed to converge (status=1):\n",
      "STOP: TOTAL NO. of ITERATIONS REACHED LIMIT.\n",
      "\n",
      "Increase the number of iterations (max_iter) or scale the data as shown in:\n",
      "    https://scikit-learn.org/stable/modules/preprocessing.html\n",
      "Please also refer to the documentation for alternative solver options:\n",
      "    https://scikit-learn.org/stable/modules/linear_model.html#logistic-regression\n",
      "  n_iter_i = _check_optimize_result(\n",
      "d:\\ProgramData\\Anaconda3\\envs\\ACA\\lib\\site-packages\\sklearn\\linear_model\\_logistic.py:814: ConvergenceWarning: lbfgs failed to converge (status=1):\n",
      "STOP: TOTAL NO. of ITERATIONS REACHED LIMIT.\n",
      "\n",
      "Increase the number of iterations (max_iter) or scale the data as shown in:\n",
      "    https://scikit-learn.org/stable/modules/preprocessing.html\n",
      "Please also refer to the documentation for alternative solver options:\n",
      "    https://scikit-learn.org/stable/modules/linear_model.html#logistic-regression\n",
      "  n_iter_i = _check_optimize_result(\n"
     ]
    }
   ],
   "source": [
    "from sklearn.svm import SVC\n",
    "from sklearn.feature_selection import SelectFromModel\n",
    "from sklearn.preprocessing import StandardScaler\n",
    "from sklearn.pipeline import Pipeline\n",
    "from sklearn.linear_model import LogisticRegression\n",
    "\n",
    "sel = SelectFromModel(estimator=LogisticRegression(random_state=rs, max_iter = 2000).fit(x_train, y_train)).fit(x_train, y_train)\n",
    "std = StandardScaler()\n",
    "\n",
    "clf = Pipeline([\n",
    "    ('standardscaler', std),\n",
    "    ('feature_selection', sel),\n",
    "    ('classification', SVC(random_state = rs, tol=1e-2))\n",
    "])\n"
   ]
  },
  {
   "cell_type": "markdown",
   "metadata": {},
   "source": [
    "#### Treino do modelo"
   ]
  },
  {
   "cell_type": "code",
   "execution_count": 5,
   "metadata": {},
   "outputs": [
    {
     "data": {
      "text/plain": [
       "Pipeline(steps=[('standardscaler', StandardScaler()),\n",
       "                ('feature_selection',\n",
       "                 SelectFromModel(estimator=LogisticRegression(max_iter=2000,\n",
       "                                                              random_state=2))),\n",
       "                ('classification', SVC(random_state=2, tol=0.01))])"
      ]
     },
     "execution_count": 5,
     "metadata": {},
     "output_type": "execute_result"
    }
   ],
   "source": [
    "x = pd.DataFrame(x_train)\n",
    "y = np.array(y_train)\n",
    "clf.fit(x, y)"
   ]
  },
  {
   "cell_type": "markdown",
   "metadata": {},
   "source": [
    "#### Validation"
   ]
  },
  {
   "cell_type": "code",
   "execution_count": 6,
   "metadata": {},
   "outputs": [],
   "source": [
    "y_pred = clf.predict(x_valid)"
   ]
  },
  {
   "cell_type": "markdown",
   "metadata": {},
   "source": [
    "#### Display das metrics (Accuracy, RoC, precision, recall)"
   ]
  },
  {
   "cell_type": "code",
   "execution_count": 8,
   "metadata": {},
   "outputs": [
    {
     "name": "stdout",
     "output_type": "stream",
     "text": [
      "Metrics: \n",
      " Acc: 0.979, ROC: 0.98\n",
      " PRE: 0.98, REC: 0.98\n"
     ]
    }
   ],
   "source": [
    "from sklearn.metrics import accuracy_score\n",
    "from sklearn.metrics import roc_auc_score\n",
    "from sklearn.metrics import precision_score\n",
    "from sklearn.metrics import recall_score\n",
    "\n",
    "\n",
    "\n",
    "accuracy = accuracy_score(y_true=y_valid, y_pred=y_pred)\n",
    "roc = roc_auc_score(y_valid, y_pred)\n",
    "pre = precision_score(y_true=y_valid, y_pred=y_pred)\n",
    "rec = recall_score(y_true=y_valid, y_pred=y_pred)\n",
    "\n",
    "\n",
    "print(\"Metrics: \\n Acc: {acc:.3f}, ROC: {roc:.2f}\\n PRE: {pre:.2f}, REC: {rec:.2f}\".format(acc=accuracy,roc=roc,pre=pre,rec=rec))\n"
   ]
  },
  {
   "cell_type": "markdown",
   "metadata": {},
   "source": [
    "##### Load dataset de teste e exporta resultado para um arquivo .csv"
   ]
  },
  {
   "cell_type": "code",
   "execution_count": null,
   "metadata": {},
   "outputs": [],
   "source": [
    "df2 = pd.read_csv(path + \"/test.csv\")\n",
    "\n",
    "x_test = df2.iloc[:, :-1]\n",
    "y_pred = clf.predict(x_test)\n",
    "\n",
    "result = pd.DataFrame(data={\n",
    "        \"Id\": range(y_pred.shape[0]),\n",
    "        \"Category\": y_pred.astype(int)\n",
    "    }, index=None)\n",
    "\n",
    "result.to_csv(\"result.csv\", index=None)"
   ]
  }
 ],
 "metadata": {
  "interpreter": {
   "hash": "8abdb4fc4f46750fd86fb77f239c6ff70e435aa065a37b0dbbb4fe7fbbc184de"
  },
  "kernelspec": {
   "display_name": "Python 3.9.12 ('ACA')",
   "language": "python",
   "name": "python3"
  },
  "language_info": {
   "codemirror_mode": {
    "name": "ipython",
    "version": 3
   },
   "file_extension": ".py",
   "mimetype": "text/x-python",
   "name": "python",
   "nbconvert_exporter": "python",
   "pygments_lexer": "ipython3",
   "version": "3.9.12"
  }
 },
 "nbformat": 4,
 "nbformat_minor": 2
}
