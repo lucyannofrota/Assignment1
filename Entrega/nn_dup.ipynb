{
 "cells": [
  {
   "cell_type": "code",
   "execution_count": 1,
   "metadata": {},
   "outputs": [],
   "source": [
    "import torch\n",
    "import torch.nn as nn\n",
    "import torch.optim as opt\n",
    "import torch.nn.functional as fun\n",
    "import numpy as np\n",
    "import pandas as pd"
   ]
  },
  {
   "cell_type": "markdown",
   "metadata": {},
   "source": [
    "# Load do dataset"
   ]
  },
  {
   "cell_type": "code",
   "execution_count": 2,
   "metadata": {},
   "outputs": [],
   "source": [
    "from lib.data import load_dataset\n",
    "\n",
    "rs = 2\n",
    "\n",
    "x_train, y_train, x_valid, y_valid = load_dataset('dts/dts_all/train.csv',rs=rs)\n",
    "x_test = load_dataset('dts/dts_all/test.csv',test_only=True,rs=rs)"
   ]
  },
  {
   "cell_type": "markdown",
   "metadata": {},
   "source": [
    "# Normalização"
   ]
  },
  {
   "cell_type": "code",
   "execution_count": 3,
   "metadata": {},
   "outputs": [],
   "source": [
    "from sklearn.preprocessing import StandardScaler\n",
    "from my_nn import dts\n",
    "\n",
    "sc = StandardScaler()\n",
    "sc.fit(x_train.values)\n",
    "\n",
    "x_train = sc.transform(x_train.values)\n",
    "x_valid = sc.transform(x_valid.values)\n",
    "x_test = sc.transform(x_test.values)"
   ]
  },
  {
   "cell_type": "markdown",
   "metadata": {},
   "source": [
    "# Feature Selection"
   ]
  },
  {
   "cell_type": "code",
   "execution_count": 4,
   "metadata": {},
   "outputs": [],
   "source": [
    "from sklearn.feature_selection import SelectFromModel\n",
    "from sklearn.linear_model import LogisticRegression\n",
    "\n",
    "selec_mod = SelectFromModel(estimator=LogisticRegression(random_state=rs, max_iter=2000)).fit(x_train, y_train)\n",
    "\n",
    "x_train = selec_mod.transform(x_train)\n",
    "x_valid = selec_mod.transform(x_valid)\n",
    "x_test = selec_mod.transform(x_test)"
   ]
  },
  {
   "cell_type": "markdown",
   "metadata": {},
   "source": [
    "# Dataloaders"
   ]
  },
  {
   "cell_type": "code",
   "execution_count": 5,
   "metadata": {},
   "outputs": [],
   "source": [
    "from torch.utils.data import DataLoader\n",
    "train_dts = dts(x_train,y_train)\n",
    "valid_dts = dts(x_valid,y_valid)\n",
    "\n",
    "training_loader = DataLoader(train_dts, batch_size=32, shuffle=True)\n",
    "valid_loader = DataLoader(valid_dts, batch_size=32, shuffle=True)"
   ]
  },
  {
   "cell_type": "code",
   "execution_count": 6,
   "metadata": {},
   "outputs": [],
   "source": [
    "from my_nn import nnModel\n",
    "\n",
    "model = nnModel(inFeatures = x_train.shape[1], random_state=2)\n",
    "\n",
    "losses, accs = model.fit(\n",
    "    trainloader=training_loader,\n",
    "    validloader=valid_loader,\n",
    "    learningRate=0.02,\n",
    "    momentum=0.9,\n",
    "    gamma=0.97,\n",
    "    numEpochs=31,\n",
    "    verbose=False\n",
    ")"
   ]
  },
  {
   "cell_type": "code",
   "execution_count": 7,
   "metadata": {},
   "outputs": [
    {
     "name": "stdout",
     "output_type": "stream",
     "text": [
      "[312.0350165888667, 139.13804518431425, 94.4781698101433, 70.1708695476409, 56.0463121564826, 43.99297285153443, 33.11418988841615, 34.19973933559231, 24.13231306803209, 19.16263302202242, 18.346706016865937, 14.356849189477089, 7.865356482076095, 9.786641216341366, 8.716525891660467, 3.645111675194812, 1.040884500453938, 0.7917869780638682, 0.14220350017346917, 0.10575282124547947, 0.08527706824336434, 0.07449293334402718, 0.06669637882606771, 0.06018847404930483, 0.05565393308912636, 0.05123707126556809, 0.04836656113952387, 0.045397581565113754, 0.04274125557977415, 0.04064049559166527, 0.038654889739459186]\n",
      "[97.25, 97.35, 98.1375, 98.325, 98.2875, 98.2625]\n"
     ]
    },
    {
     "ename": "ModuleNotFoundError",
     "evalue": "No module named 'matplotlib'",
     "output_type": "error",
     "traceback": [
      "\u001b[1;31m---------------------------------------------------------------------------\u001b[0m",
      "\u001b[1;31mModuleNotFoundError\u001b[0m                       Traceback (most recent call last)",
      "\u001b[1;32md:\\Documents\\GitHub\\Assignment1\\Entrega\\nn_dup.ipynb Cell 11'\u001b[0m in \u001b[0;36m<cell line: 4>\u001b[1;34m()\u001b[0m\n\u001b[0;32m      <a href='vscode-notebook-cell:/d%3A/Documents/GitHub/Assignment1/Entrega/nn_dup.ipynb#ch0000010?line=0'>1</a>\u001b[0m \u001b[39mprint\u001b[39m(losses)\n\u001b[0;32m      <a href='vscode-notebook-cell:/d%3A/Documents/GitHub/Assignment1/Entrega/nn_dup.ipynb#ch0000010?line=1'>2</a>\u001b[0m \u001b[39mprint\u001b[39m(accs)\n\u001b[1;32m----> <a href='vscode-notebook-cell:/d%3A/Documents/GitHub/Assignment1/Entrega/nn_dup.ipynb#ch0000010?line=3'>4</a>\u001b[0m \u001b[39mfrom\u001b[39;00m \u001b[39mmatplotlib\u001b[39;00m \u001b[39mimport\u001b[39;00m pyplot \u001b[39mas\u001b[39;00m plt\n\u001b[0;32m      <a href='vscode-notebook-cell:/d%3A/Documents/GitHub/Assignment1/Entrega/nn_dup.ipynb#ch0000010?line=4'>5</a>\u001b[0m plt\u001b[39m.\u001b[39mfigure()\n\u001b[0;32m      <a href='vscode-notebook-cell:/d%3A/Documents/GitHub/Assignment1/Entrega/nn_dup.ipynb#ch0000010?line=5'>6</a>\u001b[0m plt\u001b[39m.\u001b[39mplot(losses)\n",
      "\u001b[1;31mModuleNotFoundError\u001b[0m: No module named 'matplotlib'"
     ]
    }
   ],
   "source": [
    "print(losses)\n",
    "print(accs)\n",
    "\n",
    "from matplotlib import pyplot as plt\n",
    "plt.figure()\n",
    "plt.plot(losses)\n",
    "plt.figure()\n",
    "plt.plot(accs)"
   ]
  },
  {
   "cell_type": "code",
   "execution_count": null,
   "metadata": {},
   "outputs": [
    {
     "name": "stdout",
     "output_type": "stream",
     "text": [
      "Acc: 0.983\n",
      "ROC: 0.982\n",
      "Acc: 0.986\n",
      "Acc: 0.978\n"
     ]
    }
   ],
   "source": [
    "from sklearn.metrics import accuracy_score\n",
    "from sklearn.metrics import roc_auc_score\n",
    "from sklearn.metrics import precision_score\n",
    "from sklearn.metrics import recall_score\n",
    "\n",
    "yvalid = model.predict(torch.tensor(x_valid, dtype=torch.float32))\n",
    "\n",
    "print(\"Acc: {:.3f}\".format(accuracy_score(y_true=y_valid, y_pred=yvalid)))\n",
    "print(\"ROC: {:.3f}\".format(roc_auc_score(y_valid, yvalid)))\n",
    "print(\"Acc: {:.3f}\".format(precision_score(y_true=y_valid, y_pred=yvalid)))\n",
    "print(\"Acc: {:.3f}\".format(recall_score(y_true=y_valid, y_pred=yvalid)))"
   ]
  },
  {
   "cell_type": "code",
   "execution_count": null,
   "metadata": {},
   "outputs": [],
   "source": [
    "ypred = model.predict(torch.tensor(x_test, dtype=torch.float32))\n",
    "import pandas as pd\n",
    "result = pd.DataFrame(data={\n",
    "        \"Id\": range(len(ypred)),\n",
    "        \"Category\": ypred.astype(int)\n",
    "    }, index=None)\n",
    "\n",
    "result.to_csv(\"result.csv\", index=None)"
   ]
  }
 ],
 "metadata": {
  "interpreter": {
   "hash": "8abdb4fc4f46750fd86fb77f239c6ff70e435aa065a37b0dbbb4fe7fbbc184de"
  },
  "kernelspec": {
   "display_name": "Python 3.9.12 ('ACA')",
   "language": "python",
   "name": "python3"
  },
  "language_info": {
   "codemirror_mode": {
    "name": "ipython",
    "version": 3
   },
   "file_extension": ".py",
   "mimetype": "text/x-python",
   "name": "python",
   "nbconvert_exporter": "python",
   "pygments_lexer": "ipython3",
   "version": "3.9.12"
  },
  "orig_nbformat": 4
 },
 "nbformat": 4,
 "nbformat_minor": 2
}
