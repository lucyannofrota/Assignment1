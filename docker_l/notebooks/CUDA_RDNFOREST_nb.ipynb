{
 "cells": [
  {
   "cell_type": "markdown",
   "metadata": {},
   "source": [
    "# Load Train Set\n",
    "\n",
    "features (3681) | labels (1)"
   ]
  },
  {
   "cell_type": "code",
   "execution_count": 1,
   "metadata": {},
   "outputs": [
    {
     "name": "stdout",
     "output_type": "stream",
     "text": [
      "<class 'pandas.core.frame.DataFrame'>\n",
      "RangeIndex: 40000 entries, 0 to 39999\n",
      "Columns: 3684 entries, Unnamed: 0 to Label\n",
      "dtypes: bool(1), float64(3682), int64(1)\n",
      "memory usage: 1.1 GB\n"
     ]
    }
   ],
   "source": [
    "# import pandas as pd\n",
    "import cudf\n",
    "import cupy\n",
    "import pandas as pd\n",
    "import numpy as np\n",
    "\n",
    "# df = pd.read_feather(\"dts/np_dataset_train.ftr\")\n",
    "df = pd.read_csv(\"dts/np_dataset_train.csv\")\n",
    "df.info()\n"
   ]
  },
  {
   "cell_type": "markdown",
   "metadata": {},
   "source": [
    "## train/test Split"
   ]
  },
  {
   "cell_type": "code",
   "execution_count": 2,
   "metadata": {},
   "outputs": [
    {
     "name": "stdout",
     "output_type": "stream",
     "text": [
      "<class 'pandas.core.frame.DataFrame'>\n",
      "Int64Index: 32000 entries, 15893 to 34703\n",
      "Columns: 3684 entries, Unnamed: 0 to Label\n",
      "dtypes: bool(1), float64(3682), int64(1)\n",
      "memory usage: 899.4 MB\n",
      "<class 'pandas.core.frame.DataFrame'>\n",
      "Int64Index: 8000 entries, 273 to 564\n",
      "Columns: 3684 entries, Unnamed: 0 to Label\n",
      "dtypes: bool(1), float64(3682), int64(1)\n",
      "memory usage: 224.9 MB\n"
     ]
    }
   ],
   "source": [
    "from sklearn.model_selection import train_test_split\n",
    "\n",
    "rs = 37\n",
    "\n",
    "train, test = train_test_split(df, test_size=0.2, random_state=rs)\n",
    "train.info()\n",
    "test.info()"
   ]
  },
  {
   "cell_type": "markdown",
   "metadata": {},
   "source": [
    "## Classifier definition"
   ]
  },
  {
   "cell_type": "code",
   "execution_count": 3,
   "metadata": {},
   "outputs": [],
   "source": [
    "from random import seed\n",
    "import numpy as np\n",
    "import pandas as pd\n",
    "from sklearn.tree import DecisionTreeClassifier as tree_classifier\n",
    "from scipy import stats\n",
    "import cuml\n",
    "\n",
    "# from cuml import tree_classifier\n",
    "\n",
    "\n",
    "class random_forest():\n",
    "    def __init__(self, number_of_trees=1, number_of_iteractions=1, max_depth=1, random_state=1):\n",
    "        self.iteractions = number_of_iteractions\n",
    "        self.number_of_trees = number_of_trees\n",
    "        self.max_depth = max_depth\n",
    "        self.forest = []\n",
    "        self.random_state = random_state\n",
    "\n",
    "    def bootstrap(self, x_samples):\n",
    "        \"\"\" Create subsets of the input, and returns the indexes \n",
    "            from the original sample.\"\"\"\n",
    "        index = []\n",
    "\n",
    "        sample_length = int(np.floor(len(x_samples)/self.number_of_trees))\n",
    "        np.random.RandomState(self.random_state)\n",
    "\n",
    "        index = np.random.randint(\n",
    "            0, sample_length, (self.number_of_trees, sample_length))\n",
    "\n",
    "        return index\n",
    "\n",
    "    def predict(self, X):\n",
    "        y = []\n",
    "        for tree in self.forest:\n",
    "            y.append(tree.predict(X))\n",
    "        mode_ = stats.mode(y, axis=0)\n",
    "        mode_ = np.transpose(mode_[0])\n",
    "        return mode_\n",
    "\n",
    "    def fit(self, x_samples, y_samples):\n",
    "        idx = self.bootstrap(x_samples)\n",
    "\n",
    "        for t in range(self.number_of_trees):\n",
    "            tree = tree_classifier(\n",
    "                criterion=\"gini\", max_depth=self.max_depth, random_state=self.random_state)\n",
    "            tree.fit(x_samples.iloc[idx[t]], y_samples[idx[t]])\n",
    "            self.forest.append(tree)\n"
   ]
  },
  {
   "cell_type": "code",
   "execution_count": 4,
   "metadata": {},
   "outputs": [
    {
     "name": "stderr",
     "output_type": "stream",
     "text": [
      "/opt/conda/envs/rapids/lib/python3.7/site-packages/cuml/internals/api_decorators.py:794: UserWarning: For reproducible results in Random Forest Classifier or for almost reproducible results in Random Forest Regressor, n_streams==1 is recommended. If n_streams is > 1, results may vary due to stream/thread timing differences, even when random_state is set\n",
      "  return func(**kwargs)\n"
     ]
    }
   ],
   "source": [
    "# from sklearn import svm\n",
    "# from cuml.svm import SVC\n",
    "# import random_forest as rf\n",
    "\n",
    "\n",
    "clf = cuml.ensemble.RandomForestClassifier(\n",
    "    n_estimators=30,\n",
    "    random_state=rs\n",
    ")\n",
    "\n",
    "# clf = random_forest(number_of_trees=10, number_of_iteractions=1, max_depth=1)\n"
   ]
  },
  {
   "cell_type": "markdown",
   "metadata": {},
   "source": [
    "## Sending Data to GPU"
   ]
  },
  {
   "cell_type": "code",
   "execution_count": 5,
   "metadata": {},
   "outputs": [
    {
     "name": "stdout",
     "output_type": "stream",
     "text": [
      "(32000, 3683)\n",
      "(32000,)\n"
     ]
    }
   ],
   "source": [
    "x = cudf.DataFrame(train.iloc[:, :-1])\n",
    "x = x.astype(cupy.float32)\n",
    "y = cupy.array(train.iloc[:, -1])\n",
    "y = y.astype(cupy.float32)\n",
    "\n",
    "# x = pd.DataFrame(train.iloc[:, :-1])\n",
    "# y = np.array(train.iloc[:, -1])\n",
    "\n",
    "print(x.shape)\n",
    "print(y.shape)\n"
   ]
  },
  {
   "cell_type": "markdown",
   "metadata": {},
   "source": [
    "## Model Fitting"
   ]
  },
  {
   "cell_type": "code",
   "execution_count": 6,
   "metadata": {},
   "outputs": [
    {
     "name": "stdout",
     "output_type": "stream",
     "text": [
      "[W] [14:48:11.195258] Using experimental backend for growing trees\n",
      "\n"
     ]
    },
    {
     "data": {
      "text/plain": [
       "RandomForestClassifier()"
      ]
     },
     "execution_count": 6,
     "metadata": {},
     "output_type": "execute_result"
    }
   ],
   "source": [
    "clf.fit(x, y)"
   ]
  },
  {
   "cell_type": "markdown",
   "metadata": {},
   "source": [
    "## Testing"
   ]
  },
  {
   "cell_type": "code",
   "execution_count": 7,
   "metadata": {},
   "outputs": [],
   "source": [
    "# clf.predict_model = 'CPU'\n",
    "tmp = test.iloc[:, :-1].to_numpy()\n",
    "tmp = np.float32(tmp)\n",
    "# x_test = cupy.DataFrame(tmp)\n",
    "# print(type(tmp))\n",
    "# tmp\n",
    "# f32 = tmp.astype(cupy.float32)\n",
    "# f32\n",
    "y_pred = clf.predict(tmp)\n"
   ]
  },
  {
   "cell_type": "markdown",
   "metadata": {},
   "source": [
    "## Evaluating"
   ]
  },
  {
   "cell_type": "code",
   "execution_count": 8,
   "metadata": {},
   "outputs": [
    {
     "name": "stdout",
     "output_type": "stream",
     "text": [
      "Metrics: \n",
      " Acc: 1.00, ROC: 1.00\n",
      " PRE: 1.00, REC: 1.00\n"
     ]
    }
   ],
   "source": [
    "from sklearn.metrics import accuracy_score\n",
    "from sklearn.metrics import roc_auc_score\n",
    "from sklearn.metrics import precision_score\n",
    "from sklearn.metrics import recall_score\n",
    "\n",
    "\n",
    "\n",
    "accuracy = accuracy_score(y_true=test.iloc[:, -1], y_pred=y_pred)\n",
    "roc = roc_auc_score(test.iloc[:, -1], y_pred)\n",
    "pre = precision_score(y_true=test.iloc[:, -1], y_pred=y_pred)\n",
    "rec = recall_score(y_true=test.iloc[:, -1], y_pred=y_pred)\n",
    "\n",
    "\n",
    "print(\"Metrics: \\n Acc: {acc:.2f}, ROC: {roc:.2f}\\n PRE: {pre:.2f}, REC: {rec:.2f}\".format(acc=accuracy,roc=roc,pre=pre,rec=rec))\n"
   ]
  },
  {
   "cell_type": "markdown",
   "metadata": {},
   "source": [
    "## SC graph"
   ]
  },
  {
   "cell_type": "code",
   "execution_count": 9,
   "metadata": {},
   "outputs": [
    {
     "name": "stderr",
     "output_type": "stream",
     "text": [
      "/opt/conda/envs/rapids/lib/python3.7/site-packages/cuml/internals/api_decorators.py:794: UserWarning: For reproducible results in Random Forest Classifier or for almost reproducible results in Random Forest Regressor, n_streams==1 is recommended. If n_streams is > 1, results may vary due to stream/thread timing differences, even when random_state is set\n",
      "  return func(**kwargs)\n"
     ]
    },
    {
     "name": "stdout",
     "output_type": "stream",
     "text": [
      "[W] [14:48:19.055493] Using experimental backend for growing trees\n",
      "\n",
      "1/100\n"
     ]
    },
    {
     "name": "stderr",
     "output_type": "stream",
     "text": [
      "/opt/conda/envs/rapids/lib/python3.7/site-packages/cuml/internals/api_decorators.py:794: UserWarning: For reproducible results in Random Forest Classifier or for almost reproducible results in Random Forest Regressor, n_streams==1 is recommended. If n_streams is > 1, results may vary due to stream/thread timing differences, even when random_state is set\n",
      "  return func(**kwargs)\n"
     ]
    },
    {
     "name": "stdout",
     "output_type": "stream",
     "text": [
      "[W] [14:48:26.588504] Using experimental backend for growing trees\n",
      "\n",
      "2/100\n"
     ]
    },
    {
     "name": "stderr",
     "output_type": "stream",
     "text": [
      "/opt/conda/envs/rapids/lib/python3.7/site-packages/cuml/internals/api_decorators.py:794: UserWarning: For reproducible results in Random Forest Classifier or for almost reproducible results in Random Forest Regressor, n_streams==1 is recommended. If n_streams is > 1, results may vary due to stream/thread timing differences, even when random_state is set\n",
      "  return func(**kwargs)\n"
     ]
    },
    {
     "name": "stdout",
     "output_type": "stream",
     "text": [
      "[W] [14:48:34.139396] Using experimental backend for growing trees\n",
      "\n",
      "3/100\n"
     ]
    },
    {
     "name": "stderr",
     "output_type": "stream",
     "text": [
      "/opt/conda/envs/rapids/lib/python3.7/site-packages/cuml/internals/api_decorators.py:794: UserWarning: For reproducible results in Random Forest Classifier or for almost reproducible results in Random Forest Regressor, n_streams==1 is recommended. If n_streams is > 1, results may vary due to stream/thread timing differences, even when random_state is set\n",
      "  return func(**kwargs)\n"
     ]
    },
    {
     "name": "stdout",
     "output_type": "stream",
     "text": [
      "[W] [14:48:41.683730] Using experimental backend for growing trees\n",
      "\n",
      "4/100\n"
     ]
    },
    {
     "name": "stderr",
     "output_type": "stream",
     "text": [
      "/opt/conda/envs/rapids/lib/python3.7/site-packages/cuml/internals/api_decorators.py:794: UserWarning: For reproducible results in Random Forest Classifier or for almost reproducible results in Random Forest Regressor, n_streams==1 is recommended. If n_streams is > 1, results may vary due to stream/thread timing differences, even when random_state is set\n",
      "  return func(**kwargs)\n"
     ]
    },
    {
     "name": "stdout",
     "output_type": "stream",
     "text": [
      "[W] [14:48:49.476011] Using experimental backend for growing trees\n",
      "\n",
      "5/100\n"
     ]
    },
    {
     "name": "stderr",
     "output_type": "stream",
     "text": [
      "/opt/conda/envs/rapids/lib/python3.7/site-packages/cuml/internals/api_decorators.py:794: UserWarning: For reproducible results in Random Forest Classifier or for almost reproducible results in Random Forest Regressor, n_streams==1 is recommended. If n_streams is > 1, results may vary due to stream/thread timing differences, even when random_state is set\n",
      "  return func(**kwargs)\n"
     ]
    },
    {
     "name": "stdout",
     "output_type": "stream",
     "text": [
      "[W] [14:48:56.916571] Using experimental backend for growing trees\n",
      "\n",
      "6/100\n"
     ]
    },
    {
     "name": "stderr",
     "output_type": "stream",
     "text": [
      "/opt/conda/envs/rapids/lib/python3.7/site-packages/cuml/internals/api_decorators.py:794: UserWarning: For reproducible results in Random Forest Classifier or for almost reproducible results in Random Forest Regressor, n_streams==1 is recommended. If n_streams is > 1, results may vary due to stream/thread timing differences, even when random_state is set\n",
      "  return func(**kwargs)\n"
     ]
    }
   ],
   "source": [
    "accs = []\n",
    "rocs = []\n",
    "pres = []\n",
    "recs = []\n",
    "\n",
    "\n",
    "for rs in range(100):\n",
    "    train, test = train_test_split(df, test_size=0.2, random_state=rs)\n",
    "\n",
    "    clf = cuml.ensemble.RandomForestClassifier(\n",
    "        n_estimators=30,\n",
    "        random_state=rs\n",
    "    )\n",
    "\n",
    "    x = cudf.DataFrame(train.iloc[:, :-1])\n",
    "    x = x.astype(cupy.float32)\n",
    "    y = cupy.array(train.iloc[:, -1])\n",
    "    y = y.astype(cupy.float32)\n",
    "\n",
    "    clf.fit(x, y)\n",
    "    x_test = test.iloc[:, :-1].to_numpy()\n",
    "    x_test = np.float32(x_test)\n",
    "    y_pred = clf.predict(x_test)\n",
    "\n",
    "    accuracy = accuracy_score(y_true=test.iloc[:, -1], y_pred=y_pred)\n",
    "    accs.append(accuracy)\n",
    "    roc = roc_auc_score(test.iloc[:, -1], y_pred)\n",
    "    rocs.append(roc)\n",
    "    pre = precision_score(y_true=test.iloc[:, -1], y_pred=y_pred)\n",
    "    pres.append(pre)\n",
    "    rec = recall_score(y_true=test.iloc[:, -1], y_pred=y_pred)\n",
    "    recs.append(rec)\n",
    "\n",
    "    print(\"{i}/100\".format(i=rs+1))\n"
   ]
  },
  {
   "cell_type": "code",
   "execution_count": null,
   "metadata": {},
   "outputs": [],
   "source": [
    "\n",
    "\n",
    "# import matplotlib.pyplot as plt\n",
    "\n",
    "\n",
    "# plt.stairs(accs)\n",
    "\n",
    "# npAccs = np.array(accs)\n",
    "# npRocs = np.array(rocs)\n",
    "# npPres = np.array(pres)\n",
    "# npRecs = np.array(recs)\n",
    "\n",
    "def min_max(name,array):\n",
    "    a = np.array(array)\n",
    "    print(\"{name}: ({min:.6f},{max:.1f}|{mean:.6f})\".format(\n",
    "        name=name, min=np.min(a), max=np.max(a), mean=np.mean(a)))\n",
    "\n",
    "min_max(\"Acc\",accs)\n",
    "min_max(\"Roc\", rocs)\n",
    "min_max(\"Pre\", pres)\n",
    "min_max(\"Rec\", recs)\n"
   ]
  }
 ],
 "metadata": {
  "interpreter": {
   "hash": "6ec01e77c96c9171e407cfb31889f67e9dc04066a09f3d98ca88bf47e6432c95"
  },
  "kernelspec": {
   "display_name": "Python 3",
   "language": "python",
   "name": "python3"
  },
  "language_info": {
   "codemirror_mode": {
    "name": "ipython",
    "version": 3
   },
   "file_extension": ".py",
   "mimetype": "text/x-python",
   "name": "python",
   "nbconvert_exporter": "python",
   "pygments_lexer": "ipython3",
   "version": "3.7.10"
  }
 },
 "nbformat": 4,
 "nbformat_minor": 2
}
