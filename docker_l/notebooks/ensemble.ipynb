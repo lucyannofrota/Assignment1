{
 "cells": [
  {
   "cell_type": "code",
   "execution_count": null,
   "metadata": {},
   "outputs": [],
   "source": [
    "import pandas as pd\n",
    "import numpy as np"
   ]
  },
  {
   "cell_type": "markdown",
   "metadata": {},
   "source": [
    "# Load do dataset"
   ]
  },
  {
   "cell_type": "code",
   "execution_count": null,
   "metadata": {},
   "outputs": [],
   "source": [
    "rs = 2\n",
    "\n",
    "from lib.data import load_dataset\n",
    "plain = True\n",
    "if plain:\n",
    "    path = 'dts/dts_plain/'\n",
    "else:\n",
    "    path = 'dts/dts_all/'\n",
    "x_train, y_train, x_valid, y_valid = load_dataset(path + 'train.csv',rs=rs)\n",
    "x_test = load_dataset('dts/dts_plain/test.csv',test_only=True,rs=rs)"
   ]
  },
  {
   "cell_type": "markdown",
   "metadata": {},
   "source": [
    "## Normalização"
   ]
  },
  {
   "cell_type": "code",
   "execution_count": null,
   "metadata": {},
   "outputs": [],
   "source": [
    "from sklearn.preprocessing import StandardScaler\n",
    "\n",
    "sc = StandardScaler()\n",
    "sc.fit(x_train.values)\n",
    "\n",
    "x_train = sc.transform(x_train.values)\n",
    "x_valid = sc.transform(x_valid.values)\n",
    "x_test = sc.transform(x_test.values)"
   ]
  },
  {
   "cell_type": "markdown",
   "metadata": {},
   "source": [
    "# Feature Selection"
   ]
  },
  {
   "cell_type": "code",
   "execution_count": null,
   "metadata": {},
   "outputs": [],
   "source": [
    "from sklearn.feature_selection import SelectFromModel\n",
    "from sklearn.linear_model import LogisticRegression\n",
    "\n",
    "selec_mod = SelectFromModel(estimator=LogisticRegression(random_state=rs, max_iter=2000)).fit(x_train, y_train)\n",
    "\n",
    "x_train = selec_mod.transform(x_train)\n",
    "x_valid = selec_mod.transform(x_valid)\n",
    "x_test = selec_mod.transform(x_test)"
   ]
  },
  {
   "cell_type": "markdown",
   "metadata": {},
   "source": [
    "# Modelo"
   ]
  },
  {
   "cell_type": "code",
   "execution_count": null,
   "metadata": {},
   "outputs": [],
   "source": [
    "from my_nn import nnModel, dts\n",
    "from sklearn.svm import SVC\n",
    "from sklearn.ensemble import RandomForestClassifier\n",
    "from torch.utils.data import DataLoader\n",
    "import torch\n",
    "\n",
    "import numpy as np\n",
    "\n",
    "class ensemble():\n",
    "    def __init__(self,in_features = 1,rs = 2):\n",
    "        self.rs = rs\n",
    "\n",
    "        self.SVM = SVC(random_state = rs, tol=1e-2)\n",
    "        self.random_forest = RandomForestClassifier(random_state=rs, n_estimators=20)\n",
    "        self.nn = nnModel(inFeatures = in_features, random_state=rs)\n",
    "\n",
    "    def fit(self,x,y):\n",
    "        self.SVM.fit(x,y)\n",
    "        self.random_forest.fit(x,y)\n",
    "\n",
    "        train_dts = dts(x_train,y_train)\n",
    "        valid_dts = dts(x_valid,y_valid)\n",
    "\n",
    "        training_loader = DataLoader(train_dts, batch_size=32, shuffle=True)\n",
    "        # valid_loader = DataLoader(valid_dts, batch_size=32, shuffle=True)\n",
    "\n",
    "        losses, accs = self.nn.fit(\n",
    "            trainloader=training_loader,\n",
    "            learningRate=0.02,\n",
    "            momentum=0.9,\n",
    "            gamma=0.97,\n",
    "            numEpochs=31,\n",
    "            verbose=False\n",
    "        )\n",
    "\n",
    "    def predict(self,x):\n",
    "        y_svm = self.SVM.predict(x)\n",
    "        y_rf = self.random_forest.predict(x)\n",
    "        y_nn = self.nn.predict(torch.tensor(x, dtype=torch.float32))\n",
    "\n",
    "        comb = np.vstack((y_svm,y_rf,y_nn)).T.sum(axis=1)\n",
    "\n",
    "        return 1*(comb >= 2)\n",
    "\n",
    "        "
   ]
  },
  {
   "cell_type": "markdown",
   "metadata": {},
   "source": [
    "# Treino"
   ]
  },
  {
   "cell_type": "code",
   "execution_count": null,
   "metadata": {},
   "outputs": [],
   "source": [
    "from sklearn.metrics import accuracy_score\n",
    "\n",
    "model = ensemble(in_features=x_train.shape[1],rs=rs)\n",
    "\n",
    "model.fit(x_train,y_train)"
   ]
  },
  {
   "cell_type": "code",
   "execution_count": null,
   "metadata": {},
   "outputs": [],
   "source": [
    "y_valid_pred = model.predict(x_valid)\n",
    "\n",
    "accuracy = accuracy_score(y_true=y_valid, y_pred=y_valid_pred)\n",
    "\n",
    "print(accuracy)"
   ]
  },
  {
   "cell_type": "markdown",
   "metadata": {},
   "source": [
    "# Teste"
   ]
  },
  {
   "cell_type": "code",
   "execution_count": null,
   "metadata": {},
   "outputs": [],
   "source": [
    "y_pred = model.predict(x_valid)\n",
    "\n",
    "import pandas as pd\n",
    "result = pd.DataFrame(data={\n",
    "        \"Id\": range(len(y_pred)),\n",
    "        \"Category\": y_pred.astype(int)\n",
    "    }, index=None)\n",
    "\n",
    "result.to_csv(\"result.csv\", index=None)"
   ]
  }
 ],
 "metadata": {
  "interpreter": {
   "hash": "c349800ab1092d4b3f35027ef3e9cb37588dc5fe259e1d63272c5151b379ad97"
  },
  "kernelspec": {
   "display_name": "Python 3.8.12 ('ACA')",
   "language": "python",
   "name": "python3"
  },
  "language_info": {
   "codemirror_mode": {
    "name": "ipython",
    "version": 3
   },
   "file_extension": ".py",
   "mimetype": "text/x-python",
   "name": "python",
   "nbconvert_exporter": "python",
   "pygments_lexer": "ipython3",
   "version": "3.8.12"
  },
  "orig_nbformat": 4
 },
 "nbformat": 4,
 "nbformat_minor": 2
}
