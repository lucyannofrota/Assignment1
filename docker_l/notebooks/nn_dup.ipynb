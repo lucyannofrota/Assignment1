{
 "cells": [
  {
   "cell_type": "code",
   "execution_count": 10,
   "metadata": {},
   "outputs": [],
   "source": [
    "import torch\n",
    "import torch.nn as nn\n",
    "import torch.optim as opt\n",
    "import torch.nn.functional as fun\n",
    "import numpy as np\n",
    "import pandas as pd"
   ]
  },
  {
   "cell_type": "markdown",
   "metadata": {},
   "source": [
    "# Load do dataset"
   ]
  },
  {
   "cell_type": "code",
   "execution_count": 11,
   "metadata": {},
   "outputs": [],
   "source": [
    "from lib.data import load_dataset\n",
    "\n",
    "rs = 2\n",
    "\n",
    "x_train, y_train, x_valid, y_valid = load_dataset('dts/dts_all/train.csv',rs=rs)\n",
    "x_test = load_dataset('dts/dts_all/test.csv',test_only=True,rs=rs)"
   ]
  },
  {
   "cell_type": "markdown",
   "metadata": {},
   "source": [
    "# Normalização"
   ]
  },
  {
   "cell_type": "code",
   "execution_count": 12,
   "metadata": {},
   "outputs": [],
   "source": [
    "from sklearn.preprocessing import StandardScaler\n",
    "from my_nn import dts\n",
    "\n",
    "sc = StandardScaler()\n",
    "sc.fit(x_train.values)\n",
    "\n",
    "x_train = sc.transform(x_train.values)\n",
    "x_valid = sc.transform(x_valid.values)\n",
    "x_test = sc.transform(x_test.values)"
   ]
  },
  {
   "cell_type": "markdown",
   "metadata": {},
   "source": [
    "# Feature Selection"
   ]
  },
  {
   "cell_type": "code",
   "execution_count": 13,
   "metadata": {},
   "outputs": [],
   "source": [
    "from sklearn.feature_selection import SelectFromModel\n",
    "from sklearn.linear_model import LogisticRegression\n",
    "\n",
    "selec_mod = SelectFromModel(estimator=LogisticRegression(random_state=rs, max_iter=2000)).fit(x_train, y_train)\n",
    "\n",
    "x_train = selec_mod.transform(x_train)\n",
    "x_valid = selec_mod.transform(x_valid)\n",
    "x_test = selec_mod.transform(x_test)"
   ]
  },
  {
   "cell_type": "markdown",
   "metadata": {},
   "source": [
    "# Dataloaders"
   ]
  },
  {
   "cell_type": "code",
   "execution_count": 14,
   "metadata": {},
   "outputs": [],
   "source": [
    "from torch.utils.data import DataLoader\n",
    "train_dts = dts(x_train,y_train)\n",
    "valid_dts = dts(x_valid,y_valid)\n",
    "\n",
    "training_loader = DataLoader(train_dts, batch_size=32, shuffle=True)\n",
    "valid_loader = DataLoader(valid_dts, batch_size=32, shuffle=True)"
   ]
  },
  {
   "cell_type": "code",
   "execution_count": 15,
   "metadata": {},
   "outputs": [],
   "source": [
    "from my_nn import nnModel\n",
    "\n",
    "model = nnModel(inFeatures = x_train.shape[1], random_state=2)\n",
    "\n",
    "losses, accs = model.fit(\n",
    "    trainloader=training_loader,\n",
    "    validloader=valid_loader,\n",
    "    learningRate=0.02,\n",
    "    momentum=0.9,\n",
    "    gamma=0.97,\n",
    "    numEpochs=31,\n",
    "    verbose=False\n",
    ")"
   ]
  },
  {
   "cell_type": "code",
   "execution_count": 16,
   "metadata": {},
   "outputs": [
    {
     "name": "stdout",
     "output_type": "stream",
     "text": [
      "[342.55393143743277, 160.10186089249328, 105.11545635806397, 75.51159698603442, 63.57035344024189, 43.84199487688602, 38.35808648209786, 30.39617118311071, 31.13258135337128, 21.320861849502762, 16.07161115899453, 15.569913870470373, 9.001668879010595, 16.105460310179296, 10.119769777516694, 6.873818316258891, 1.2907688099182195, 0.47433402735246233, 0.21476890553338812, 0.14126959507262926, 0.05600842029755704, 0.043649879877184716, 0.038117458215269906, 0.034237666649363785, 0.03112719800088115, 0.028778183225358855, 0.026818356872590154, 0.02510991163253795, 0.02372143487970213, 0.02245663067574366, 0.021343725743967035]\n",
      "[94.5875, 97.0375, 97.775, 98.3625, 98.3, 98.2875]\n"
     ]
    },
    {
     "data": {
      "text/plain": [
       "[<matplotlib.lines.Line2D at 0x12b6e9f33a0>]"
      ]
     },
     "execution_count": 16,
     "metadata": {},
     "output_type": "execute_result"
    },
    {
     "data": {
      "image/png": "[encoded data removed]",
      "text/plain": [
       "<Figure size 432x288 with 1 Axes>"
      ]
     },
     "metadata": {
      "needs_background": "light"
     },
     "output_type": "display_data"
    },
    {
     "data": {
      "image/png": "[encoded data removed]",
      "text/plain": [
       "<Figure size 432x288 with 1 Axes>"
      ]
     },
     "metadata": {
      "needs_background": "light"
     },
     "output_type": "display_data"
    }
   ],
   "source": [
    "print(losses)\n",
    "print(accs)\n",
    "\n",
    "from matplotlib import pyplot as plt\n",
    "plt.figure()\n",
    "plt.plot(losses)\n",
    "plt.figure()\n",
    "plt.plot(accs)"
   ]
  },
  {
   "cell_type": "code",
   "execution_count": 17,
   "metadata": {},
   "outputs": [
    {
     "name": "stdout",
     "output_type": "stream",
     "text": [
      "Acc: 0.983\n",
      "ROC: 0.983\n",
      "Acc: 0.988\n",
      "Acc: 0.978\n"
     ]
    }
   ],
   "source": [
    "from sklearn.metrics import accuracy_score\n",
    "from sklearn.metrics import roc_auc_score\n",
    "from sklearn.metrics import precision_score\n",
    "from sklearn.metrics import recall_score\n",
    "\n",
    "yvalid = model.predict(torch.tensor(x_valid, dtype=torch.float32))\n",
    "\n",
    "print(\"Acc: {:.3f}\".format(accuracy_score(y_true=y_valid, y_pred=yvalid)))\n",
    "print(\"ROC: {:.3f}\".format(roc_auc_score(y_valid, yvalid)))\n",
    "print(\"Acc: {:.3f}\".format(precision_score(y_true=y_valid, y_pred=yvalid)))\n",
    "print(\"Acc: {:.3f}\".format(recall_score(y_true=y_valid, y_pred=yvalid)))"
   ]
  },
  {
   "cell_type": "code",
   "execution_count": 18,
   "metadata": {},
   "outputs": [],
   "source": [
    "ypred = model.predict(torch.tensor(x_test, dtype=torch.float32))\n",
    "import pandas as pd\n",
    "result = pd.DataFrame(data={\n",
    "        \"Id\": range(len(ypred)),\n",
    "        \"Category\": ypred.astype(int)\n",
    "    }, index=None)\n",
    "\n",
    "result.to_csv(\"result.csv\", index=None)"
   ]
  }
 ],
 "metadata": {
  "interpreter": {
   "hash": "c349800ab1092d4b3f35027ef3e9cb37588dc5fe259e1d63272c5151b379ad97"
  },
  "kernelspec": {
   "display_name": "Python 3.8.12 ('ACA')",
   "language": "python",
   "name": "python3"
  },
  "language_info": {
   "codemirror_mode": {
    "name": "ipython",
    "version": 3
   },
   "file_extension": ".py",
   "mimetype": "text/x-python",
   "name": "python",
   "nbconvert_exporter": "python",
   "pygments_lexer": "ipython3",
   "version": "3.8.12"
  },
  "orig_nbformat": 4
 },
 "nbformat": 4,
 "nbformat_minor": 2
}
