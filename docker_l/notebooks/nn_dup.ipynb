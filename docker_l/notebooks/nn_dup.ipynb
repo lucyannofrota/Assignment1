{
 "cells": [
  {
   "cell_type": "code",
   "execution_count": 10,
   "metadata": {},
   "outputs": [],
   "source": [
    "import torch\n",
    "import torch.nn as nn\n",
    "import torch.optim as opt\n",
    "import torch.nn.functional as fun\n",
    "import numpy as np\n",
    "import pandas as pd"
   ]
  },
  {
   "cell_type": "markdown",
   "metadata": {},
   "source": [
    "# Load do dataset"
   ]
  },
  {
   "cell_type": "code",
   "execution_count": 11,
   "metadata": {},
   "outputs": [],
   "source": [
    "from lib.data import load_dataset\n",
    "\n",
    "rs = 2\n",
    "\n",
    "x_train, y_train, x_valid, y_valid = load_dataset('dts/dts_plain/train.csv',rs=rs)\n",
    "x_test = load_dataset('dts/dts_plain/test.csv',test_only=True,rs=rs)"
   ]
  },
  {
   "cell_type": "markdown",
   "metadata": {},
   "source": [
    "# Normalização"
   ]
  },
  {
   "cell_type": "code",
   "execution_count": 12,
   "metadata": {},
   "outputs": [],
   "source": [
    "from sklearn.preprocessing import StandardScaler\n",
    "from my_nn import dts\n",
    "\n",
    "sc = StandardScaler()\n",
    "sc.fit(x_train.values)\n",
    "\n",
    "x_train = sc.transform(x_train.values)\n",
    "x_valid = sc.transform(x_valid.values)\n",
    "x_test = sc.transform(x_test.values)"
   ]
  },
  {
   "cell_type": "markdown",
   "metadata": {},
   "source": [
    "# Feature Selection"
   ]
  },
  {
   "cell_type": "code",
   "execution_count": 14,
   "metadata": {},
   "outputs": [],
   "source": [
    "from sklearn.feature_selection import SelectFromModel\n",
    "from sklearn.linear_model import LogisticRegression\n",
    "\n",
    "selec_mod = SelectFromModel(estimator=LogisticRegression(random_state=rs, max_iter=2000)).fit(x_train, y_train)\n",
    "\n",
    "x_train = selec_mod.transform(x_train)\n",
    "x_valid = selec_mod.transform(x_valid)\n",
    "x_test = selec_mod.transform(x_test)"
   ]
  },
  {
   "cell_type": "markdown",
   "metadata": {},
   "source": [
    "# Dataloaders"
   ]
  },
  {
   "cell_type": "code",
   "execution_count": 15,
   "metadata": {},
   "outputs": [],
   "source": [
    "from torch.utils.data import DataLoader\n",
    "train_dts = dts(x_train,y_train)\n",
    "valid_dts = dts(x_valid,y_valid)\n",
    "\n",
    "training_loader = DataLoader(train_dts, batch_size=32, shuffle=True)\n",
    "valid_loader = DataLoader(valid_dts, batch_size=32, shuffle=True)"
   ]
  },
  {
   "cell_type": "code",
   "execution_count": 17,
   "metadata": {},
   "outputs": [],
   "source": [
    "from my_nn import nnModel\n",
    "\n",
    "model = nnModel(inFeatures = x_train.shape[1], random_state=2)\n",
    "\n",
    "losses, accs = model.fit(\n",
    "    trainloader=training_loader,\n",
    "    validloader=valid_loader,\n",
    "    learningRate=0.02,\n",
    "    momentum=0.9,\n",
    "    gamma=0.97,\n",
    "    numEpochs=31,\n",
    "    verbose=False\n",
    ")"
   ]
  },
  {
   "cell_type": "code",
   "execution_count": 18,
   "metadata": {},
   "outputs": [
    {
     "name": "stdout",
     "output_type": "stream",
     "text": [
      "[394.0386022217572, 226.79664776846766, 169.40144319273531, 136.57306786812842, 116.63110551913269, 103.40455693751574, 92.96948285494, 81.2042411591392, 72.37687484221533, 65.7604257252533, 56.61868022457929, 50.68457840124756, 44.08693372446578, 41.90944343974115, 38.08720534112945, 31.590904894532287, 31.393206280550658, 29.907288265581883, 21.888162286115403, 19.257458874861186, 17.040818647546075, 14.81222272750938, 16.494777533404886, 8.09441336771215, 14.870415381844737, 12.970649281908209, 6.04443669887587, 4.742936336474941, 3.829802208541423, 3.6224334051984783, 3.4875595026976782]\n",
      "[93.7625, 95.5, 95.95, 96.2125, 95.75, 96.6625]\n"
     ]
    },
    {
     "data": {
      "text/plain": [
       "[<matplotlib.lines.Line2D at 0x13caecc17c0>]"
      ]
     },
     "execution_count": 18,
     "metadata": {},
     "output_type": "execute_result"
    },
    {
     "data": {
      "image/png": "[encoded data removed]",
      "text/plain": [
       "<Figure size 432x288 with 1 Axes>"
      ]
     },
     "metadata": {
      "needs_background": "light"
     },
     "output_type": "display_data"
    },
    {
     "data": {
      "image/png": "[encoded data removed]",
      "text/plain": [
       "<Figure size 432x288 with 1 Axes>"
      ]
     },
     "metadata": {
      "needs_background": "light"
     },
     "output_type": "display_data"
    }
   ],
   "source": [
    "print(losses)\n",
    "print(accs)\n",
    "\n",
    "from matplotlib import pyplot as plt\n",
    "plt.figure()\n",
    "plt.plot(losses)\n",
    "plt.figure()\n",
    "plt.plot(accs)"
   ]
  },
  {
   "cell_type": "code",
   "execution_count": null,
   "metadata": {},
   "outputs": [],
   "source": []
  },
  {
   "cell_type": "code",
   "execution_count": 19,
   "metadata": {},
   "outputs": [],
   "source": [
    "# model = model.to(torch.device('cpu'))\n",
    "\n",
    "# tst = torch.tensor(x_test, dtype=torch.float32).to(torch.device('cuda'))\n",
    "\n",
    "ypred = model.predict(torch.tensor(x_test, dtype=torch.float32))\n"
   ]
  },
  {
   "cell_type": "code",
   "execution_count": 20,
   "metadata": {},
   "outputs": [],
   "source": [
    "import pandas as pd\n",
    "result = pd.DataFrame(data={\n",
    "        \"Id\": range(len(ypred)),\n",
    "        \"Category\": ypred.astype(int)\n",
    "    }, index=None)\n",
    "\n",
    "result.to_csv(\"result.csv\", index=None)"
   ]
  }
 ],
 "metadata": {
  "interpreter": {
   "hash": "c349800ab1092d4b3f35027ef3e9cb37588dc5fe259e1d63272c5151b379ad97"
  },
  "kernelspec": {
   "display_name": "Python 3.8.12 ('ACA')",
   "language": "python",
   "name": "python3"
  },
  "language_info": {
   "codemirror_mode": {
    "name": "ipython",
    "version": 3
   },
   "file_extension": ".py",
   "mimetype": "text/x-python",
   "name": "python",
   "nbconvert_exporter": "python",
   "pygments_lexer": "ipython3",
   "version": "3.8.12"
  },
  "orig_nbformat": 4
 },
 "nbformat": 4,
 "nbformat_minor": 2
}
