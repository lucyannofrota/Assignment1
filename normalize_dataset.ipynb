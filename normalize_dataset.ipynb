{
 "cells": [
  {
   "cell_type": "code",
   "execution_count": 55,
   "metadata": {},
   "outputs": [
    {
     "name": "stdout",
     "output_type": "stream",
     "text": [
      "<class 'pandas.core.frame.DataFrame'>\n",
      "RangeIndex: 2000 entries, 0 to 1999\n",
      "Columns: 3681 entries, img_0 to allCanny\n",
      "dtypes: float64(260), int64(3421)\n",
      "memory usage: 56.2 MB\n"
     ]
    }
   ],
   "source": [
    "import pandas as pd\n",
    "\n",
    "df = pd.read_csv(\"p_dataset_test.csv\")\n",
    "df.info()"
   ]
  },
  {
   "cell_type": "code",
   "execution_count": 56,
   "metadata": {},
   "outputs": [],
   "source": [
    "Xdf = df.iloc[:, :]\n",
    "# Xdf = df.iloc[:,:-1]\n",
    "Ydf = df.iloc[:, -1]\n"
   ]
  },
  {
   "cell_type": "code",
   "execution_count": 57,
   "metadata": {},
   "outputs": [],
   "source": [
    "nXdf = (Xdf-Xdf.min())/(Xdf.max()-Xdf.min())\n",
    "# nXdf = nXdf.astype('float16')"
   ]
  },
  {
   "cell_type": "code",
   "execution_count": 58,
   "metadata": {},
   "outputs": [],
   "source": [
    "# ndf = pd.concat([nXdf, Ydf], axis=1)\n",
    "ndf = nXdf"
   ]
  },
  {
   "cell_type": "code",
   "execution_count": 59,
   "metadata": {},
   "outputs": [
    {
     "name": "stdout",
     "output_type": "stream",
     "text": [
      "<class 'pandas.core.frame.DataFrame'>\n",
      "RangeIndex: 2000 entries, 0 to 1999\n",
      "Columns: 3681 entries, img_0 to allCanny\n",
      "dtypes: float64(3681)\n",
      "memory usage: 56.2 MB\n"
     ]
    }
   ],
   "source": [
    "ndf.info()\n",
    "ndf.to_csv('np_dataset_test.csv')\n"
   ]
  }
 ],
 "metadata": {
  "interpreter": {
   "hash": "6ec01e77c96c9171e407cfb31889f67e9dc04066a09f3d98ca88bf47e6432c95"
  },
  "kernelspec": {
   "display_name": "Python 3.8.12 ('ACA')",
   "language": "python",
   "name": "python3"
  },
  "language_info": {
   "codemirror_mode": {
    "name": "ipython",
    "version": 3
   },
   "file_extension": ".py",
   "mimetype": "text/x-python",
   "name": "python",
   "nbconvert_exporter": "python",
   "pygments_lexer": "ipython3",
   "version": "3.8.12"
  },
  "orig_nbformat": 4
 },
 "nbformat": 4,
 "nbformat_minor": 2
}
