{
 "cells": [
  {
   "cell_type": "code",
   "execution_count": null,
   "metadata": {},
   "outputs": [],
   "source": [
    "import pandas as pd\n",
    "import numpy as np"
   ]
  },
  {
   "cell_type": "code",
   "execution_count": null,
   "metadata": {},
   "outputs": [],
   "source": [
    "from lib.data import load_dataset\n",
    "plain = False\n",
    "if plain:\n",
    "    path = 'dts/dts_plain/'\n",
    "else:\n",
    "    path = 'dts/dts_all/'\n",
    "x_train, y_train, x_valid, y_valid = load_dataset(path + 'train.csv')"
   ]
  },
  {
   "cell_type": "code",
   "execution_count": null,
   "metadata": {},
   "outputs": [],
   "source": [
    "from sklearn.pipeline import Pipeline\n",
    "from sklearn.feature_selection import SelectFromModel\n",
    "from sklearn.tree import DecisionTreeClassifier\n",
    "from sklearn.ensemble import RandomForestClassifier\n",
    "from sklearn.linear_model import LogisticRegression\n",
    "from sklearn.preprocessing import StandardScaler\n",
    "rs = 2\n",
    "# forest = RandomForestClassifier(random_state=rs, n_estimators=20)\n",
    "forest = Pipeline([\n",
    "    # ('standardscaler', StandardScaler()),\n",
    "    ('feature_selection', SelectFromModel(estimator=LogisticRegression(random_state=rs, max_iter=2000)).fit(x_train, y_train)),\n",
    "    ('classification', RandomForestClassifier(random_state=rs, n_estimators=20))\n",
    "])"
   ]
  },
  {
   "cell_type": "code",
   "execution_count": null,
   "metadata": {},
   "outputs": [],
   "source": [
    "clf = Pipeline([\n",
    "    ('standardscaler', StandardScaler()),\n",
    "    ('feature_selection', SelectFromModel(estimator=LogisticRegression(random_state=rs).fit(x_train, y_train)).fit(x_train, y_train)),\n",
    "    ('classification', SVC(random_state = rs, tol=1e-2))\n",
    "])"
   ]
  }
 ],
 "metadata": {
  "language_info": {
   "name": "python"
  },
  "orig_nbformat": 4
 },
 "nbformat": 4,
 "nbformat_minor": 2
}
