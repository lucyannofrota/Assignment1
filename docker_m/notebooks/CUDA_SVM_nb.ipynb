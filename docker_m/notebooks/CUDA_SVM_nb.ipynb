{
 "cells": [
  {
   "cell_type": "markdown",
   "metadata": {},
   "source": [
    "# Load Train Set\n",
    "\n",
    "features (3681) | labels (1)"
   ]
  },
  {
   "cell_type": "code",
   "execution_count": 20,
   "metadata": {},
   "outputs": [],
   "source": [
    "import pandas as pd\n",
    "import numpy as np"
   ]
  },
  {
   "cell_type": "markdown",
   "metadata": {},
   "source": [
    "## train/test Split"
   ]
  },
  {
   "cell_type": "code",
   "execution_count": 21,
   "metadata": {},
   "outputs": [],
   "source": [
    "from lib.data import load_dataset\n",
    "\n",
    "x_train, y_train, x_test, y_test = load_dataset('dts/train.csv')"
   ]
  },
  {
   "cell_type": "markdown",
   "metadata": {},
   "source": [
    "## Classifier definition"
   ]
  },
  {
   "cell_type": "code",
   "execution_count": 22,
   "metadata": {},
   "outputs": [],
   "source": [
    "from sklearn.svm import SVC\n",
    "# from cuml.svm import SVC\n",
    "\n",
    "clf = SVC(random_state = rs)\n"
   ]
  },
  {
   "cell_type": "markdown",
   "metadata": {},
   "source": [
    "## Sending Data to GPU"
   ]
  },
  {
   "cell_type": "code",
   "execution_count": 23,
   "metadata": {},
   "outputs": [
    {
     "name": "stdout",
     "output_type": "stream",
     "text": [
      "(32000, 784)\n",
      "(32000,)\n"
     ]
    }
   ],
   "source": [
    "x = pd.DataFrame(train.iloc[:, :-1])\n",
    "# y = (train.iloc[:, -1])\n",
    "\n",
    "y = np.array(train.iloc[:, -1])\n",
    "\n",
    "print(x.shape)\n",
    "print(y.shape)"
   ]
  },
  {
   "cell_type": "markdown",
   "metadata": {},
   "source": [
    "## Model Fitting"
   ]
  },
  {
   "cell_type": "code",
   "execution_count": 24,
   "metadata": {},
   "outputs": [
    {
     "data": {
      "text/plain": [
       "SVC(random_state=0)"
      ]
     },
     "execution_count": 24,
     "metadata": {},
     "output_type": "execute_result"
    }
   ],
   "source": [
    "clf.fit(x, y)"
   ]
  },
  {
   "cell_type": "markdown",
   "metadata": {},
   "source": [
    "## Testing"
   ]
  },
  {
   "cell_type": "code",
   "execution_count": 25,
   "metadata": {},
   "outputs": [],
   "source": [
    "y_pred = clf.predict(test.iloc[:,:-1])"
   ]
  },
  {
   "cell_type": "markdown",
   "metadata": {},
   "source": [
    "## Evaluating"
   ]
  },
  {
   "cell_type": "code",
   "execution_count": 27,
   "metadata": {},
   "outputs": [
    {
     "name": "stdout",
     "output_type": "stream",
     "text": [
      "Metrics: \n",
      " Acc: 0.97, ROC: 0.97\n",
      " PRE: 0.98, REC: 0.97\n"
     ]
    }
   ],
   "source": [
    "from sklearn.metrics import accuracy_score\n",
    "from sklearn.metrics import roc_auc_score\n",
    "from sklearn.metrics import precision_score\n",
    "from sklearn.metrics import recall_score\n",
    "\n",
    "\n",
    "\n",
    "accuracy = accuracy_score(y_true=test.iloc[:, -1], y_pred=y_pred)\n",
    "roc = roc_auc_score(test.iloc[:, -1], y_pred)\n",
    "pre = precision_score(y_true=test.iloc[:, -1], y_pred=y_pred)\n",
    "rec = recall_score(y_true=test.iloc[:, -1], y_pred=y_pred)\n",
    "\n",
    "\n",
    "print(\"Metrics: \\n Acc: {acc:.2f}, ROC: {roc:.2f}\\n PRE: {pre:.2f}, REC: {rec:.2f}\".format(acc=accuracy,roc=roc,pre=pre,rec=rec))\n"
   ]
  },
  {
   "cell_type": "code",
   "execution_count": 19,
   "metadata": {},
   "outputs": [],
   "source": [
    "df2 = pd.read_csv(\"dts/test.csv\")\n",
    "\n",
    "x_test = df2.iloc[:, :-1]\n",
    "y_pred = clf.predict(x_test)\n",
    "\n",
    "result = pd.DataFrame(data={\n",
    "        \"Id\": range(y_pred.shape[0]),\n",
    "        \"Category\": y_pred.astype(int)\n",
    "    }, index=None)\n",
    "\n",
    "result.to_csv(\"result.csv\", index=None)"
   ]
  },
  {
   "cell_type": "markdown",
   "metadata": {},
   "source": [
    "## SC graph"
   ]
  },
  {
   "cell_type": "code",
   "execution_count": 16,
   "metadata": {},
   "outputs": [
    {
     "ename": "NameError",
     "evalue": "name 'cudf' is not defined",
     "output_type": "error",
     "traceback": [
      "\u001b[1;31m---------------------------------------------------------------------------\u001b[0m",
      "\u001b[1;31mNameError\u001b[0m                                 Traceback (most recent call last)",
      "\u001b[1;32md:\\Documents\\GitHub\\Assignment1\\docker_m\\notebooks\\CUDA_SVM_nb.ipynb Cell 16'\u001b[0m in \u001b[0;36m<cell line: 7>\u001b[1;34m()\u001b[0m\n\u001b[0;32m      <a href='vscode-notebook-cell:/d%3A/Documents/GitHub/Assignment1/docker_m/notebooks/CUDA_SVM_nb.ipynb#ch0000015?line=7'>8</a>\u001b[0m train, test \u001b[39m=\u001b[39m train_test_split(df, test_size\u001b[39m=\u001b[39m\u001b[39m0.2\u001b[39m, random_state\u001b[39m=\u001b[39mrs)\n\u001b[0;32m     <a href='vscode-notebook-cell:/d%3A/Documents/GitHub/Assignment1/docker_m/notebooks/CUDA_SVM_nb.ipynb#ch0000015?line=9'>10</a>\u001b[0m clf \u001b[39m=\u001b[39m SVC(random_state\u001b[39m=\u001b[39mrs)\n\u001b[1;32m---> <a href='vscode-notebook-cell:/d%3A/Documents/GitHub/Assignment1/docker_m/notebooks/CUDA_SVM_nb.ipynb#ch0000015?line=11'>12</a>\u001b[0m x \u001b[39m=\u001b[39m cudf\u001b[39m.\u001b[39mDataFrame(train\u001b[39m.\u001b[39miloc[:, :\u001b[39m-\u001b[39m\u001b[39m1\u001b[39m])\n\u001b[0;32m     <a href='vscode-notebook-cell:/d%3A/Documents/GitHub/Assignment1/docker_m/notebooks/CUDA_SVM_nb.ipynb#ch0000015?line=12'>13</a>\u001b[0m y \u001b[39m=\u001b[39m cupy\u001b[39m.\u001b[39marray(train\u001b[39m.\u001b[39miloc[:, \u001b[39m-\u001b[39m\u001b[39m1\u001b[39m])\n\u001b[0;32m     <a href='vscode-notebook-cell:/d%3A/Documents/GitHub/Assignment1/docker_m/notebooks/CUDA_SVM_nb.ipynb#ch0000015?line=14'>15</a>\u001b[0m clf\u001b[39m.\u001b[39mfit(x, y)\n",
      "\u001b[1;31mNameError\u001b[0m: name 'cudf' is not defined"
     ]
    }
   ],
   "source": [
    "# accs = []\n",
    "# rocs = []\n",
    "# pres = []\n",
    "# recs = []\n",
    "\n",
    "\n",
    "# for rs in range(100):\n",
    "#     train, test = train_test_split(df, test_size=0.2, random_state=rs)\n",
    "\n",
    "#     clf = SVC(random_state=rs)\n",
    "\n",
    "#     x = cudf.DataFrame(train.iloc[:, :-1])\n",
    "#     y = cupy.array(train.iloc[:, -1])\n",
    "\n",
    "#     clf.fit(x, y)\n",
    "#     y_pred = clf.predict(test.iloc[:, :-1])\n",
    "\n",
    "#     accuracy = accuracy_score(y_true=test.iloc[:, -1], y_pred=y_pred)\n",
    "#     accs.append(accuracy)\n",
    "#     roc = roc_auc_score(test.iloc[:, -1], y_pred)\n",
    "#     rocs.append(roc)\n",
    "#     pre = precision_score(y_true=test.iloc[:, -1], y_pred=y_pred)\n",
    "#     pres.append(pre)\n",
    "#     rec = recall_score(y_true=test.iloc[:, -1], y_pred=y_pred)\n",
    "#     recs.append(rec)\n",
    "\n",
    "#     print(\"{i}/100\".format(i=rs+1))"
   ]
  },
  {
   "cell_type": "code",
   "execution_count": null,
   "metadata": {},
   "outputs": [
    {
     "name": "stdout",
     "output_type": "stream",
     "text": [
      "Acc: (0.998750,1.0|0.999829)\n",
      "Roc: (0.998751,1.0|0.999829)\n",
      "Pre: (0.997504,1.0|0.999832)\n",
      "Rec: (0.997532,1.0|0.999826)\n"
     ]
    }
   ],
   "source": [
    "\n",
    "\n",
    "# import matplotlib.pyplot as plt\n",
    "\n",
    "\n",
    "# plt.stairs(accs)\n",
    "\n",
    "# npAccs = np.array(accs)\n",
    "# npRocs = np.array(rocs)\n",
    "# npPres = np.array(pres)\n",
    "# npRecs = np.array(recs)\n",
    "\n",
    "def min_max(name,array):\n",
    "    a = np.array(array)\n",
    "    print(\"{name}: ({min:.6f},{max:.1f}|{mean:.6f})\".format(\n",
    "        name=name, min=np.min(a), max=np.max(a), mean=np.mean(a)))\n",
    "\n",
    "min_max(\"Acc\",accs)\n",
    "min_max(\"Roc\", rocs)\n",
    "min_max(\"Pre\", pres)\n",
    "min_max(\"Rec\", recs)\n"
   ]
  }
 ],
 "metadata": {
  "interpreter": {
   "hash": "6ec01e77c96c9171e407cfb31889f67e9dc04066a09f3d98ca88bf47e6432c95"
  },
  "kernelspec": {
   "display_name": "Python 3",
   "language": "python",
   "name": "python3"
  },
  "language_info": {
   "codemirror_mode": {
    "name": "ipython",
    "version": 3
   },
   "file_extension": ".py",
   "mimetype": "text/x-python",
   "name": "python",
   "nbconvert_exporter": "python",
   "pygments_lexer": "ipython3",
   "version": "3.9.12"
  }
 },
 "nbformat": 4,
 "nbformat_minor": 2
}
