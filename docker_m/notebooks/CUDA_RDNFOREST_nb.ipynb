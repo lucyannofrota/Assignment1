{
 "cells": [
  {
   "cell_type": "markdown",
   "metadata": {},
   "source": [
    "# Load Train Set\n",
    "\n",
    "features (3681) | labels (1)"
   ]
  },
  {
   "cell_type": "code",
   "execution_count": 2,
   "metadata": {},
   "outputs": [],
   "source": [
    "from lib.data import load_dataset\n",
    "x_train, y_train, x_test, y_test = load_dataset('dts/plain_dataset.csv')"
   ]
  },
  {
   "cell_type": "code",
   "execution_count": 2,
   "metadata": {},
   "outputs": [
    {
     "name": "stdout",
     "output_type": "stream",
     "text": [
      "<class 'pandas.core.frame.DataFrame'>\n",
      "RangeIndex: 40000 entries, 0 to 39999\n",
      "Columns: 3684 entries, Unnamed: 0 to Label\n",
      "dtypes: bool(1), float64(3682), int64(1)\n",
      "memory usage: 1.1 GB\n"
     ]
    }
   ],
   "source": [
    "# import pandas as pd\n",
    "import cudf\n",
    "import cupy\n",
    "import pandas as pd\n",
    "import numpy as np\n",
    "\n",
    "# df = pd.read_feather(\"dts/np_dataset_train.ftr\")\n",
    "df = pd.read_csv(\"dts/np_dataset_train.csv\")\n",
    "df.info()\n"
   ]
  },
  {
   "cell_type": "markdown",
   "metadata": {},
   "source": [
    "## train/test Split"
   ]
  },
  {
   "cell_type": "code",
   "execution_count": 5,
   "metadata": {},
   "outputs": [
    {
     "name": "stdout",
     "output_type": "stream",
     "text": [
      "<class 'pandas.core.frame.DataFrame'>\n",
      "Int64Index: 32000 entries, 21721 to 33003\n",
      "Columns: 3684 entries, Unnamed: 0 to Label\n",
      "dtypes: bool(1), float64(3682), int64(1)\n",
      "memory usage: 899.4 MB\n",
      "<class 'pandas.core.frame.DataFrame'>\n",
      "Int64Index: 8000 entries, 3841 to 32191\n",
      "Columns: 3684 entries, Unnamed: 0 to Label\n",
      "dtypes: bool(1), float64(3682), int64(1)\n",
      "memory usage: 224.9 MB\n"
     ]
    }
   ],
   "source": [
    "from sklearn.model_selection import train_test_split\n",
    "\n",
    "rs = 1\n",
    "\n",
    "train, test = train_test_split(df, test_size=0.2, random_state=rs)\n",
    "train.info()\n",
    "test.info()\n",
    "\n",
    "x_train = pd.DataFrame(train.iloc[1:, :-2])\n",
    "x_test  = pd.DataFrame(test.iloc[1:, :-2])\n",
    "y_train = np.array(train.iloc[1:, -1])\n",
    "y_test  = np.array(test.iloc[1:, -1])\n"
   ]
  },
  {
   "cell_type": "markdown",
   "metadata": {},
   "source": [
    "## Classifier definition"
   ]
  },
  {
   "cell_type": "code",
   "execution_count": null,
   "metadata": {},
   "outputs": [],
   "source": [
    "from random import seed\n",
    "import numpy as np\n",
    "import pandas as pd\n",
    "from sklearn.tree import DecisionTreeClassifier as tree_classifier\n",
    "from scipy import stats\n",
    "from math import sqrt\n",
    "\n",
    "class random_forest():\n",
    "    def __init__(self, number_of_trees=1, number_of_iteractions=1, max_depth=1, random_state=1):\n",
    "        self.iteractions = number_of_iteractions\n",
    "        self.number_of_trees = number_of_trees\n",
    "        self.max_depth = max_depth\n",
    "        self.forest = []\n",
    "        self.random_state = random_state\n",
    "\n",
    "    def bootstrap(self, x_samples):\n",
    "        \"\"\" Create subsets of the input, and returns the indexes \n",
    "            from the original sample.\"\"\"\n",
    "        index = []\n",
    "\n",
    "        np.random.RandomState(self.random_state)\n",
    "        sample_length = len(x_samples)\n",
    "        for i in range(self.number_of_trees):\n",
    "            index.append(np.random.randint(0, sample_length, [\n",
    "                         1, round(sqrt(sample_length))]))\n",
    "        return index\n",
    "\n",
    "    def predict(self, X):\n",
    "        y = []\n",
    "        for tree in self.forest:\n",
    "            y.append(tree.predict(X))\n",
    "        mode_ = stats.mode(y, axis=0)\n",
    "        mode_ = np.transpose(mode_[0])\n",
    "        return mode_\n",
    "\n",
    "    def fit(self, x_samples, y_samples):\n",
    "        idx = self.bootstrap(y_samples)\n",
    "        for t in range(self.number_of_trees):\n",
    "            tree = tree_classifier(\n",
    "                criterion=\"gini\", max_depth=self.max_depth, random_state=self.random_state)\n",
    "            tree.fit(x_samples.iloc[(flatten(idx[t]))[0],:], y_samples[(flatten(idx[t]))[0]])\n",
    "            self.forest.append(tree)\n",
    "\n",
    "    # def train(self, x_samples, y_samples):\n",
    "    #     self.bagging(x_samples, y_samples)\n",
    "\n",
    "\n",
    "def flatten(indices):\n",
    "    return [item for item in indices]\n"
   ]
  },
  {
   "cell_type": "code",
   "execution_count": null,
   "metadata": {},
   "outputs": [],
   "source": [
    "# from sklearn import svm\n",
    "# from cuml.svm import SVC\n",
    "# import random_forest as rf\n",
    "\n",
    "clf = random_forest(number_of_trees=1, number_of_iteractions=1, max_depth=1)\n"
   ]
  },
  {
   "cell_type": "markdown",
   "metadata": {},
   "source": [
    "## Sending Data to GPU"
   ]
  },
  {
   "cell_type": "code",
   "execution_count": null,
   "metadata": {},
   "outputs": [],
   "source": [
    "x = pd.DataFrame(train.iloc[:, :-2])\n",
    "y = np.array(train.iloc[:, -1])"
   ]
  },
  {
   "cell_type": "markdown",
   "metadata": {},
   "source": [
    "## Model Fitting"
   ]
  },
  {
   "cell_type": "code",
   "execution_count": null,
   "metadata": {},
   "outputs": [],
   "source": [
    "clf.fit(x, y)"
   ]
  },
  {
   "cell_type": "markdown",
   "metadata": {},
   "source": [
    "## Testing"
   ]
  },
  {
   "cell_type": "code",
   "execution_count": null,
   "metadata": {},
   "outputs": [],
   "source": [
    "y_pred = clf.predict(test.iloc[:,:-2])"
   ]
  },
  {
   "cell_type": "markdown",
   "metadata": {},
   "source": [
    "## Evaluating"
   ]
  },
  {
   "cell_type": "code",
   "execution_count": null,
   "metadata": {},
   "outputs": [
    {
     "name": "stdout",
     "output_type": "stream",
     "text": [
      "Metrics: \n",
      " Acc: 1.00, ROC: 1.00\n",
      " PRE: 1.00, REC: 1.00\n"
     ]
    }
   ],
   "source": [
    "from sklearn.metrics import accuracy_score\n",
    "from sklearn.metrics import roc_auc_score\n",
    "from sklearn.metrics import precision_score\n",
    "from sklearn.metrics import recall_score\n",
    "\n",
    "\n",
    "\n",
    "accuracy = accuracy_score(y_true=test.iloc[:, -1], y_pred=y_pred)\n",
    "roc = roc_auc_score(test.iloc[:, -1], y_pred)\n",
    "pre = precision_score(y_true=test.iloc[:, -1], y_pred=y_pred)\n",
    "rec = recall_score(y_true=test.iloc[:, -1], y_pred=y_pred)\n",
    "\n",
    "\n",
    "print(\"Metrics: \\n Acc: {acc:.2f}, ROC: {roc:.2f}\\n PRE: {pre:.2f}, REC: {rec:.2f}\".format(acc=accuracy,roc=roc,pre=pre,rec=rec))\n"
   ]
  },
  {
   "cell_type": "markdown",
   "metadata": {},
   "source": []
  },
  {
   "cell_type": "code",
   "execution_count": 6,
   "metadata": {},
   "outputs": [
    {
     "ename": "ValueError",
     "evalue": "Number of labels=32000 does not match number of samples=31999",
     "output_type": "error",
     "traceback": [
      "\u001b[0;31m---------------------------------------------------------------------------\u001b[0m",
      "\u001b[0;31mValueError\u001b[0m                                Traceback (most recent call last)",
      "\u001b[0;32m<ipython-input-6-5c3001a81d25>\u001b[0m in \u001b[0;36m<module>\u001b[0;34m\u001b[0m\n\u001b[1;32m      4\u001b[0m \u001b[0;34m\u001b[0m\u001b[0m\n\u001b[1;32m      5\u001b[0m \u001b[0mclf\u001b[0m \u001b[0;34m=\u001b[0m \u001b[0mDecisionTreeClassifier\u001b[0m\u001b[0;34m(\u001b[0m\u001b[0;34m)\u001b[0m\u001b[0;34m\u001b[0m\u001b[0;34m\u001b[0m\u001b[0m\n\u001b[0;32m----> 6\u001b[0;31m \u001b[0mclf\u001b[0m\u001b[0;34m.\u001b[0m\u001b[0mfit\u001b[0m\u001b[0;34m(\u001b[0m\u001b[0mx_train\u001b[0m\u001b[0;34m,\u001b[0m \u001b[0my_train\u001b[0m\u001b[0;34m)\u001b[0m\u001b[0;34m\u001b[0m\u001b[0;34m\u001b[0m\u001b[0m\n\u001b[0m\u001b[1;32m      7\u001b[0m \u001b[0;34m\u001b[0m\u001b[0m\n\u001b[1;32m      8\u001b[0m \u001b[0mimportance\u001b[0m \u001b[0;34m=\u001b[0m \u001b[0mclf\u001b[0m\u001b[0;34m.\u001b[0m\u001b[0mfeature_importances_\u001b[0m\u001b[0;34m\u001b[0m\u001b[0;34m\u001b[0m\u001b[0m\n",
      "\u001b[0;32m/opt/conda/envs/rapids/lib/python3.7/site-packages/sklearn/tree/_classes.py\u001b[0m in \u001b[0;36mfit\u001b[0;34m(self, X, y, sample_weight, check_input, X_idx_sorted)\u001b[0m\n\u001b[1;32m    892\u001b[0m             \u001b[0msample_weight\u001b[0m\u001b[0;34m=\u001b[0m\u001b[0msample_weight\u001b[0m\u001b[0;34m,\u001b[0m\u001b[0;34m\u001b[0m\u001b[0;34m\u001b[0m\u001b[0m\n\u001b[1;32m    893\u001b[0m             \u001b[0mcheck_input\u001b[0m\u001b[0;34m=\u001b[0m\u001b[0mcheck_input\u001b[0m\u001b[0;34m,\u001b[0m\u001b[0;34m\u001b[0m\u001b[0;34m\u001b[0m\u001b[0m\n\u001b[0;32m--> 894\u001b[0;31m             X_idx_sorted=X_idx_sorted)\n\u001b[0m\u001b[1;32m    895\u001b[0m         \u001b[0;32mreturn\u001b[0m \u001b[0mself\u001b[0m\u001b[0;34m\u001b[0m\u001b[0;34m\u001b[0m\u001b[0m\n\u001b[1;32m    896\u001b[0m \u001b[0;34m\u001b[0m\u001b[0m\n",
      "\u001b[0;32m/opt/conda/envs/rapids/lib/python3.7/site-packages/sklearn/tree/_classes.py\u001b[0m in \u001b[0;36mfit\u001b[0;34m(self, X, y, sample_weight, check_input, X_idx_sorted)\u001b[0m\n\u001b[1;32m    271\u001b[0m         \u001b[0;32mif\u001b[0m \u001b[0mlen\u001b[0m\u001b[0;34m(\u001b[0m\u001b[0my\u001b[0m\u001b[0;34m)\u001b[0m \u001b[0;34m!=\u001b[0m \u001b[0mn_samples\u001b[0m\u001b[0;34m:\u001b[0m\u001b[0;34m\u001b[0m\u001b[0;34m\u001b[0m\u001b[0m\n\u001b[1;32m    272\u001b[0m             raise ValueError(\"Number of labels=%d does not match \"\n\u001b[0;32m--> 273\u001b[0;31m                              \"number of samples=%d\" % (len(y), n_samples))\n\u001b[0m\u001b[1;32m    274\u001b[0m         \u001b[0;32mif\u001b[0m \u001b[0;32mnot\u001b[0m \u001b[0;36m0\u001b[0m \u001b[0;34m<=\u001b[0m \u001b[0mself\u001b[0m\u001b[0;34m.\u001b[0m\u001b[0mmin_weight_fraction_leaf\u001b[0m \u001b[0;34m<=\u001b[0m \u001b[0;36m0.5\u001b[0m\u001b[0;34m:\u001b[0m\u001b[0;34m\u001b[0m\u001b[0;34m\u001b[0m\u001b[0m\n\u001b[1;32m    275\u001b[0m             \u001b[0;32mraise\u001b[0m \u001b[0mValueError\u001b[0m\u001b[0;34m(\u001b[0m\u001b[0;34m\"min_weight_fraction_leaf must in [0, 0.5]\"\u001b[0m\u001b[0;34m)\u001b[0m\u001b[0;34m\u001b[0m\u001b[0;34m\u001b[0m\u001b[0m\n",
      "\u001b[0;31mValueError\u001b[0m: Number of labels=32000 does not match number of samples=31999"
     ]
    }
   ],
   "source": [
    "import time\n",
    "from sklearn.inspection import permutation_importance\n",
    "from sklearn.tree import DecisionTreeClassifier\n",
    "\n",
    "clf = DecisionTreeClassifier()\n",
    "clf.fit(x_train, y_train)\n",
    "\n",
    "importance = clf.feature_importances_\n",
    "\n",
    "for i,v in enumerate(importance):\n",
    "\tprint('Feature: %0d, Score: %.5f' % (i,v))\n",
    "# plot feature importance\n",
    "pyplot.bar([x for x in range(len(importance))], importance)\n",
    "pyplot.show()\n",
    "\n",
    "\n",
    "# start_time = time.time()\n",
    "# result = permutation_importance(\n",
    "#     clf, X=x_test, y=y_test, n_repeats=2, random_state=42, n_jobs=1\n",
    "# )\n",
    "# elapsed_time = time.time() - start_time\n",
    "# print(f\"Elapsed time to compute the importances: {elapsed_time:.3f} seconds\")\n",
    "\n",
    "# forest_importances = pd.Series(result.importances_mean, index=feature_names)"
   ]
  },
  {
   "cell_type": "code",
   "execution_count": null,
   "metadata": {},
   "outputs": [
    {
     "ename": "NameError",
     "evalue": "name 'columns' is not defined",
     "output_type": "error",
     "traceback": [
      "\u001b[0;31m---------------------------------------------------------------------------\u001b[0m",
      "\u001b[0;31mNameError\u001b[0m                                 Traceback (most recent call last)",
      "\u001b[0;32m<ipython-input-11-2affbcd67f90>\u001b[0m in \u001b[0;36m<module>\u001b[0;34m\u001b[0m\n\u001b[0;32m----> 1\u001b[0;31m pred = pd.DataFrame({'Id': columns,\n\u001b[0m\u001b[1;32m      2\u001b[0m                      'Category': y_pred})\n\u001b[1;32m      3\u001b[0m \u001b[0;34m\u001b[0m\u001b[0m\n\u001b[1;32m      4\u001b[0m \u001b[0mpred\u001b[0m\u001b[0;34m.\u001b[0m\u001b[0mto_csv\u001b[0m\u001b[0;34m(\u001b[0m\u001b[0;34m'predictions.csv'\u001b[0m\u001b[0;34m,\u001b[0m \u001b[0mindex\u001b[0m\u001b[0;34m=\u001b[0m\u001b[0;32mFalse\u001b[0m\u001b[0;34m)\u001b[0m\u001b[0;34m\u001b[0m\u001b[0;34m\u001b[0m\u001b[0m\n",
      "\u001b[0;31mNameError\u001b[0m: name 'columns' is not defined"
     ]
    }
   ],
   "source": [
    "pred = pd.DataFrame({'Id': columns,\n",
    "                     'Category': y_pred})\n",
    "\n",
    "pred.to_csv('predictions.csv', index=False)"
   ]
  },
  {
   "cell_type": "markdown",
   "metadata": {},
   "source": [
    "## SC graph"
   ]
  },
  {
   "cell_type": "code",
   "execution_count": null,
   "metadata": {},
   "outputs": [],
   "source": [
    "# accs = []\n",
    "# rocs = []\n",
    "# pres = []\n",
    "# recs = []\n",
    "\n",
    "\n",
    "# for rs in range(100):\n",
    "#     train, test = train_test_split(df, test_size=0.2, random_state=rs)\n",
    "\n",
    "#     clf = SVC(random_state=rs)\n",
    "\n",
    "#     x = cudf.DataFrame(train.iloc[:, :-1])\n",
    "#     y = cupy.array(train.iloc[:, -1])\n",
    "\n",
    "#     clf.fit(x, y)\n",
    "#     y_pred = clf.predict(test.iloc[:, :-1])\n",
    "\n",
    "#     accuracy = accuracy_score(y_true=test.iloc[:, -1], y_pred=y_pred)\n",
    "#     accs.append(accuracy)\n",
    "#     roc = roc_auc_score(test.iloc[:, -1], y_pred)\n",
    "#     rocs.append(roc)\n",
    "#     pre = precision_score(y_true=test.iloc[:, -1], y_pred=y_pred)\n",
    "#     pres.append(pre)\n",
    "#     rec = recall_score(y_true=test.iloc[:, -1], y_pred=y_pred)\n",
    "#     recs.append(rec)\n",
    "\n",
    "#     print(\"{i}/100\".format(i=rs+1))"
   ]
  },
  {
   "cell_type": "code",
   "execution_count": null,
   "metadata": {},
   "outputs": [
    {
     "ename": "NameError",
     "evalue": "name 'accs' is not defined",
     "output_type": "error",
     "traceback": [
      "\u001b[0;31m---------------------------------------------------------------------------\u001b[0m",
      "\u001b[0;31mNameError\u001b[0m                                 Traceback (most recent call last)",
      "\u001b[0;32m<ipython-input-11-c56f244e4d85>\u001b[0m in \u001b[0;36m<module>\u001b[0;34m\u001b[0m\n\u001b[1;32m      2\u001b[0m \u001b[0;34m\u001b[0m\u001b[0m\n\u001b[1;32m      3\u001b[0m \u001b[0;34m\u001b[0m\u001b[0m\n\u001b[0;32m----> 4\u001b[0;31m \u001b[0mplt\u001b[0m\u001b[0;34m.\u001b[0m\u001b[0mstairs\u001b[0m\u001b[0;34m(\u001b[0m\u001b[0maccs\u001b[0m\u001b[0;34m)\u001b[0m\u001b[0;34m\u001b[0m\u001b[0;34m\u001b[0m\u001b[0m\n\u001b[0m\u001b[1;32m      5\u001b[0m \u001b[0;34m\u001b[0m\u001b[0m\n\u001b[1;32m      6\u001b[0m \u001b[0mnpAccs\u001b[0m \u001b[0;34m=\u001b[0m \u001b[0mnp\u001b[0m\u001b[0;34m.\u001b[0m\u001b[0marray\u001b[0m\u001b[0;34m(\u001b[0m\u001b[0maccs\u001b[0m\u001b[0;34m)\u001b[0m\u001b[0;34m\u001b[0m\u001b[0;34m\u001b[0m\u001b[0m\n",
      "\u001b[0;31mNameError\u001b[0m: name 'accs' is not defined"
     ]
    }
   ],
   "source": [
    "\n",
    "\n",
    "# import matplotlib.pyplot as plt\n",
    "\n",
    "\n",
    "# plt.stairs(accs)\n",
    "\n",
    "# npAccs = np.array(accs)\n",
    "# npRocs = np.array(rocs)\n",
    "# npPres = np.array(pres)\n",
    "# npRecs = np.array(recs)\n",
    "\n",
    "# def min_max(name,array):\n",
    "#     a = np.array(array)\n",
    "#     print(\"{name}: ({min:.6f},{max:.1f}|{mean:.6f})\".format(\n",
    "#         name=name, min=np.min(a), max=np.max(a), mean=np.mean(a)))\n",
    "\n",
    "# min_max(\"Acc\",accs)\n",
    "# min_max(\"Roc\", rocs)\n",
    "# min_max(\"Pre\", pres)\n",
    "# min_max(\"Rec\", recs)\n"
   ]
  }
 ],
 "metadata": {
  "interpreter": {
   "hash": "6ec01e77c96c9171e407cfb31889f67e9dc04066a09f3d98ca88bf47e6432c95"
  },
  "kernelspec": {
   "display_name": "Python 3",
   "language": "python",
   "name": "python3"
  },
  "language_info": {
   "codemirror_mode": {
    "name": "ipython",
    "version": 3
   },
   "file_extension": ".py",
   "mimetype": "text/x-python",
   "name": "python",
   "nbconvert_exporter": "python",
   "pygments_lexer": "ipython3",
   "version": "3.7.10"
  }
 },
 "nbformat": 4,
 "nbformat_minor": 2
}
