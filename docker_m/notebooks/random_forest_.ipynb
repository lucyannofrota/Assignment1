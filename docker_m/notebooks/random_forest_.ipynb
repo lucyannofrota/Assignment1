{
 "cells": [
  {
   "cell_type": "markdown",
   "metadata": {},
   "source": [
    "#### Load dataset"
   ]
  },
  {
   "cell_type": "code",
   "execution_count": 12,
   "metadata": {},
   "outputs": [],
   "source": [
    "import pandas as pd\n",
    "import numpy as np\n",
    "from lib.data import load_dataset\n",
    "\n",
    "plain = False # Quero só a imagem serializada?\n",
    "if plain:\n",
    "    path = 'dts/dts_plain/'\n",
    "else:\n",
    "    path = 'dts/dts_all/'\n",
    "x_train, y_train, x_valid, y_valid = load_dataset(path + 'train.csv', rs=2)"
   ]
  },
  {
   "cell_type": "markdown",
   "metadata": {},
   "source": [
    "#### Definição da pipeline\n",
    "- Definição do seletor de features\n",
    "- Definição do random forest classifier"
   ]
  },
  {
   "cell_type": "code",
   "execution_count": 22,
   "metadata": {},
   "outputs": [
    {
     "ename": "KeyboardInterrupt",
     "evalue": "",
     "output_type": "error",
     "traceback": [
      "\u001b[1;31m---------------------------------------------------------------------------\u001b[0m",
      "\u001b[1;31mKeyboardInterrupt\u001b[0m                         Traceback (most recent call last)",
      "\u001b[1;32md:\\Documents\\GitHub\\Assignment1\\docker_m\\notebooks\\random_forest_.ipynb Cell 3'\u001b[0m in \u001b[0;36m<cell line: 9>\u001b[1;34m()\u001b[0m\n\u001b[0;32m      <a href='vscode-notebook-cell:/d%3A/Documents/GitHub/Assignment1/docker_m/notebooks/random_forest_.ipynb#ch0000002?line=6'>7</a>\u001b[0m rs \u001b[39m=\u001b[39m \u001b[39m2\u001b[39m\n\u001b[0;32m      <a href='vscode-notebook-cell:/d%3A/Documents/GitHub/Assignment1/docker_m/notebooks/random_forest_.ipynb#ch0000002?line=7'>8</a>\u001b[0m \u001b[39m# forest = RandomForestClassifier(random_state=rs, n_estimators=20)\u001b[39;00m\n\u001b[0;32m      <a href='vscode-notebook-cell:/d%3A/Documents/GitHub/Assignment1/docker_m/notebooks/random_forest_.ipynb#ch0000002?line=8'>9</a>\u001b[0m forest \u001b[39m=\u001b[39m Pipeline([\n\u001b[0;32m     <a href='vscode-notebook-cell:/d%3A/Documents/GitHub/Assignment1/docker_m/notebooks/random_forest_.ipynb#ch0000002?line=9'>10</a>\u001b[0m     \u001b[39m# ('standardscaler', StandardScaler()),\u001b[39;00m\n\u001b[1;32m---> <a href='vscode-notebook-cell:/d%3A/Documents/GitHub/Assignment1/docker_m/notebooks/random_forest_.ipynb#ch0000002?line=10'>11</a>\u001b[0m     (\u001b[39m'\u001b[39m\u001b[39mfeature_selection\u001b[39m\u001b[39m'\u001b[39m, SelectFromModel(estimator\u001b[39m=\u001b[39;49mLogisticRegression(random_state\u001b[39m=\u001b[39;49mrs, max_iter\u001b[39m=\u001b[39;49m\u001b[39m2000\u001b[39;49m))\u001b[39m.\u001b[39;49mfit(x_train, y_train)),\n\u001b[0;32m     <a href='vscode-notebook-cell:/d%3A/Documents/GitHub/Assignment1/docker_m/notebooks/random_forest_.ipynb#ch0000002?line=11'>12</a>\u001b[0m     (\u001b[39m'\u001b[39m\u001b[39mclassification\u001b[39m\u001b[39m'\u001b[39m, RandomForestClassifier(random_state\u001b[39m=\u001b[39mrs, n_estimators\u001b[39m=\u001b[39m\u001b[39m20\u001b[39m))\n\u001b[0;32m     <a href='vscode-notebook-cell:/d%3A/Documents/GitHub/Assignment1/docker_m/notebooks/random_forest_.ipynb#ch0000002?line=12'>13</a>\u001b[0m ])\n",
      "File \u001b[1;32md:\\ProgramData\\Anaconda3\\envs\\ACA\\lib\\site-packages\\sklearn\\feature_selection\\_from_model.py:267\u001b[0m, in \u001b[0;36mSelectFromModel.fit\u001b[1;34m(self, X, y, **fit_params)\u001b[0m\n\u001b[0;32m    <a href='file:///d%3A/ProgramData/Anaconda3/envs/ACA/lib/site-packages/sklearn/feature_selection/_from_model.py?line=264'>265</a>\u001b[0m     \u001b[39mraise\u001b[39;00m NotFittedError(\u001b[39m\"\u001b[39m\u001b[39mSince \u001b[39m\u001b[39m'\u001b[39m\u001b[39mprefit=True\u001b[39m\u001b[39m'\u001b[39m\u001b[39m, call transform directly\u001b[39m\u001b[39m\"\u001b[39m)\n\u001b[0;32m    <a href='file:///d%3A/ProgramData/Anaconda3/envs/ACA/lib/site-packages/sklearn/feature_selection/_from_model.py?line=265'>266</a>\u001b[0m \u001b[39mself\u001b[39m\u001b[39m.\u001b[39mestimator_ \u001b[39m=\u001b[39m clone(\u001b[39mself\u001b[39m\u001b[39m.\u001b[39mestimator)\n\u001b[1;32m--> <a href='file:///d%3A/ProgramData/Anaconda3/envs/ACA/lib/site-packages/sklearn/feature_selection/_from_model.py?line=266'>267</a>\u001b[0m \u001b[39mself\u001b[39m\u001b[39m.\u001b[39mestimator_\u001b[39m.\u001b[39mfit(X, y, \u001b[39m*\u001b[39m\u001b[39m*\u001b[39mfit_params)\n\u001b[0;32m    <a href='file:///d%3A/ProgramData/Anaconda3/envs/ACA/lib/site-packages/sklearn/feature_selection/_from_model.py?line=268'>269</a>\u001b[0m \u001b[39mif\u001b[39;00m \u001b[39mhasattr\u001b[39m(\u001b[39mself\u001b[39m\u001b[39m.\u001b[39mestimator_, \u001b[39m\"\u001b[39m\u001b[39mfeature_names_in_\u001b[39m\u001b[39m\"\u001b[39m):\n\u001b[0;32m    <a href='file:///d%3A/ProgramData/Anaconda3/envs/ACA/lib/site-packages/sklearn/feature_selection/_from_model.py?line=269'>270</a>\u001b[0m     \u001b[39mself\u001b[39m\u001b[39m.\u001b[39mfeature_names_in_ \u001b[39m=\u001b[39m \u001b[39mself\u001b[39m\u001b[39m.\u001b[39mestimator_\u001b[39m.\u001b[39mfeature_names_in_\n",
      "File \u001b[1;32md:\\ProgramData\\Anaconda3\\envs\\ACA\\lib\\site-packages\\sklearn\\linear_model\\_logistic.py:1508\u001b[0m, in \u001b[0;36mLogisticRegression.fit\u001b[1;34m(self, X, y, sample_weight)\u001b[0m\n\u001b[0;32m   <a href='file:///d%3A/ProgramData/Anaconda3/envs/ACA/lib/site-packages/sklearn/linear_model/_logistic.py?line=1504'>1505</a>\u001b[0m \u001b[39melse\u001b[39;00m:\n\u001b[0;32m   <a href='file:///d%3A/ProgramData/Anaconda3/envs/ACA/lib/site-packages/sklearn/linear_model/_logistic.py?line=1505'>1506</a>\u001b[0m     _dtype \u001b[39m=\u001b[39m [np\u001b[39m.\u001b[39mfloat64, np\u001b[39m.\u001b[39mfloat32]\n\u001b[1;32m-> <a href='file:///d%3A/ProgramData/Anaconda3/envs/ACA/lib/site-packages/sklearn/linear_model/_logistic.py?line=1507'>1508</a>\u001b[0m X, y \u001b[39m=\u001b[39m \u001b[39mself\u001b[39;49m\u001b[39m.\u001b[39;49m_validate_data(\n\u001b[0;32m   <a href='file:///d%3A/ProgramData/Anaconda3/envs/ACA/lib/site-packages/sklearn/linear_model/_logistic.py?line=1508'>1509</a>\u001b[0m     X,\n\u001b[0;32m   <a href='file:///d%3A/ProgramData/Anaconda3/envs/ACA/lib/site-packages/sklearn/linear_model/_logistic.py?line=1509'>1510</a>\u001b[0m     y,\n\u001b[0;32m   <a href='file:///d%3A/ProgramData/Anaconda3/envs/ACA/lib/site-packages/sklearn/linear_model/_logistic.py?line=1510'>1511</a>\u001b[0m     accept_sparse\u001b[39m=\u001b[39;49m\u001b[39m\"\u001b[39;49m\u001b[39mcsr\u001b[39;49m\u001b[39m\"\u001b[39;49m,\n\u001b[0;32m   <a href='file:///d%3A/ProgramData/Anaconda3/envs/ACA/lib/site-packages/sklearn/linear_model/_logistic.py?line=1511'>1512</a>\u001b[0m     dtype\u001b[39m=\u001b[39;49m_dtype,\n\u001b[0;32m   <a href='file:///d%3A/ProgramData/Anaconda3/envs/ACA/lib/site-packages/sklearn/linear_model/_logistic.py?line=1512'>1513</a>\u001b[0m     order\u001b[39m=\u001b[39;49m\u001b[39m\"\u001b[39;49m\u001b[39mC\u001b[39;49m\u001b[39m\"\u001b[39;49m,\n\u001b[0;32m   <a href='file:///d%3A/ProgramData/Anaconda3/envs/ACA/lib/site-packages/sklearn/linear_model/_logistic.py?line=1513'>1514</a>\u001b[0m     accept_large_sparse\u001b[39m=\u001b[39;49msolver \u001b[39mnot\u001b[39;49;00m \u001b[39min\u001b[39;49;00m [\u001b[39m\"\u001b[39;49m\u001b[39mliblinear\u001b[39;49m\u001b[39m\"\u001b[39;49m, \u001b[39m\"\u001b[39;49m\u001b[39msag\u001b[39;49m\u001b[39m\"\u001b[39;49m, \u001b[39m\"\u001b[39;49m\u001b[39msaga\u001b[39;49m\u001b[39m\"\u001b[39;49m],\n\u001b[0;32m   <a href='file:///d%3A/ProgramData/Anaconda3/envs/ACA/lib/site-packages/sklearn/linear_model/_logistic.py?line=1514'>1515</a>\u001b[0m )\n\u001b[0;32m   <a href='file:///d%3A/ProgramData/Anaconda3/envs/ACA/lib/site-packages/sklearn/linear_model/_logistic.py?line=1515'>1516</a>\u001b[0m check_classification_targets(y)\n\u001b[0;32m   <a href='file:///d%3A/ProgramData/Anaconda3/envs/ACA/lib/site-packages/sklearn/linear_model/_logistic.py?line=1516'>1517</a>\u001b[0m \u001b[39mself\u001b[39m\u001b[39m.\u001b[39mclasses_ \u001b[39m=\u001b[39m np\u001b[39m.\u001b[39munique(y)\n",
      "File \u001b[1;32md:\\ProgramData\\Anaconda3\\envs\\ACA\\lib\\site-packages\\sklearn\\base.py:581\u001b[0m, in \u001b[0;36mBaseEstimator._validate_data\u001b[1;34m(self, X, y, reset, validate_separately, **check_params)\u001b[0m\n\u001b[0;32m    <a href='file:///d%3A/ProgramData/Anaconda3/envs/ACA/lib/site-packages/sklearn/base.py?line=578'>579</a>\u001b[0m         y \u001b[39m=\u001b[39m check_array(y, \u001b[39m*\u001b[39m\u001b[39m*\u001b[39mcheck_y_params)\n\u001b[0;32m    <a href='file:///d%3A/ProgramData/Anaconda3/envs/ACA/lib/site-packages/sklearn/base.py?line=579'>580</a>\u001b[0m     \u001b[39melse\u001b[39;00m:\n\u001b[1;32m--> <a href='file:///d%3A/ProgramData/Anaconda3/envs/ACA/lib/site-packages/sklearn/base.py?line=580'>581</a>\u001b[0m         X, y \u001b[39m=\u001b[39m check_X_y(X, y, \u001b[39m*\u001b[39m\u001b[39m*\u001b[39mcheck_params)\n\u001b[0;32m    <a href='file:///d%3A/ProgramData/Anaconda3/envs/ACA/lib/site-packages/sklearn/base.py?line=581'>582</a>\u001b[0m     out \u001b[39m=\u001b[39m X, y\n\u001b[0;32m    <a href='file:///d%3A/ProgramData/Anaconda3/envs/ACA/lib/site-packages/sklearn/base.py?line=583'>584</a>\u001b[0m \u001b[39mif\u001b[39;00m \u001b[39mnot\u001b[39;00m no_val_X \u001b[39mand\u001b[39;00m check_params\u001b[39m.\u001b[39mget(\u001b[39m\"\u001b[39m\u001b[39mensure_2d\u001b[39m\u001b[39m\"\u001b[39m, \u001b[39mTrue\u001b[39;00m):\n",
      "File \u001b[1;32md:\\ProgramData\\Anaconda3\\envs\\ACA\\lib\\site-packages\\sklearn\\utils\\validation.py:964\u001b[0m, in \u001b[0;36mcheck_X_y\u001b[1;34m(X, y, accept_sparse, accept_large_sparse, dtype, order, copy, force_all_finite, ensure_2d, allow_nd, multi_output, ensure_min_samples, ensure_min_features, y_numeric, estimator)\u001b[0m\n\u001b[0;32m    <a href='file:///d%3A/ProgramData/Anaconda3/envs/ACA/lib/site-packages/sklearn/utils/validation.py?line=960'>961</a>\u001b[0m \u001b[39mif\u001b[39;00m y \u001b[39mis\u001b[39;00m \u001b[39mNone\u001b[39;00m:\n\u001b[0;32m    <a href='file:///d%3A/ProgramData/Anaconda3/envs/ACA/lib/site-packages/sklearn/utils/validation.py?line=961'>962</a>\u001b[0m     \u001b[39mraise\u001b[39;00m \u001b[39mValueError\u001b[39;00m(\u001b[39m\"\u001b[39m\u001b[39my cannot be None\u001b[39m\u001b[39m\"\u001b[39m)\n\u001b[1;32m--> <a href='file:///d%3A/ProgramData/Anaconda3/envs/ACA/lib/site-packages/sklearn/utils/validation.py?line=963'>964</a>\u001b[0m X \u001b[39m=\u001b[39m check_array(\n\u001b[0;32m    <a href='file:///d%3A/ProgramData/Anaconda3/envs/ACA/lib/site-packages/sklearn/utils/validation.py?line=964'>965</a>\u001b[0m     X,\n\u001b[0;32m    <a href='file:///d%3A/ProgramData/Anaconda3/envs/ACA/lib/site-packages/sklearn/utils/validation.py?line=965'>966</a>\u001b[0m     accept_sparse\u001b[39m=\u001b[39;49maccept_sparse,\n\u001b[0;32m    <a href='file:///d%3A/ProgramData/Anaconda3/envs/ACA/lib/site-packages/sklearn/utils/validation.py?line=966'>967</a>\u001b[0m     accept_large_sparse\u001b[39m=\u001b[39;49maccept_large_sparse,\n\u001b[0;32m    <a href='file:///d%3A/ProgramData/Anaconda3/envs/ACA/lib/site-packages/sklearn/utils/validation.py?line=967'>968</a>\u001b[0m     dtype\u001b[39m=\u001b[39;49mdtype,\n\u001b[0;32m    <a href='file:///d%3A/ProgramData/Anaconda3/envs/ACA/lib/site-packages/sklearn/utils/validation.py?line=968'>969</a>\u001b[0m     order\u001b[39m=\u001b[39;49morder,\n\u001b[0;32m    <a href='file:///d%3A/ProgramData/Anaconda3/envs/ACA/lib/site-packages/sklearn/utils/validation.py?line=969'>970</a>\u001b[0m     copy\u001b[39m=\u001b[39;49mcopy,\n\u001b[0;32m    <a href='file:///d%3A/ProgramData/Anaconda3/envs/ACA/lib/site-packages/sklearn/utils/validation.py?line=970'>971</a>\u001b[0m     force_all_finite\u001b[39m=\u001b[39;49mforce_all_finite,\n\u001b[0;32m    <a href='file:///d%3A/ProgramData/Anaconda3/envs/ACA/lib/site-packages/sklearn/utils/validation.py?line=971'>972</a>\u001b[0m     ensure_2d\u001b[39m=\u001b[39;49mensure_2d,\n\u001b[0;32m    <a href='file:///d%3A/ProgramData/Anaconda3/envs/ACA/lib/site-packages/sklearn/utils/validation.py?line=972'>973</a>\u001b[0m     allow_nd\u001b[39m=\u001b[39;49mallow_nd,\n\u001b[0;32m    <a href='file:///d%3A/ProgramData/Anaconda3/envs/ACA/lib/site-packages/sklearn/utils/validation.py?line=973'>974</a>\u001b[0m     ensure_min_samples\u001b[39m=\u001b[39;49mensure_min_samples,\n\u001b[0;32m    <a href='file:///d%3A/ProgramData/Anaconda3/envs/ACA/lib/site-packages/sklearn/utils/validation.py?line=974'>975</a>\u001b[0m     ensure_min_features\u001b[39m=\u001b[39;49mensure_min_features,\n\u001b[0;32m    <a href='file:///d%3A/ProgramData/Anaconda3/envs/ACA/lib/site-packages/sklearn/utils/validation.py?line=975'>976</a>\u001b[0m     estimator\u001b[39m=\u001b[39;49mestimator,\n\u001b[0;32m    <a href='file:///d%3A/ProgramData/Anaconda3/envs/ACA/lib/site-packages/sklearn/utils/validation.py?line=976'>977</a>\u001b[0m )\n\u001b[0;32m    <a href='file:///d%3A/ProgramData/Anaconda3/envs/ACA/lib/site-packages/sklearn/utils/validation.py?line=978'>979</a>\u001b[0m y \u001b[39m=\u001b[39m _check_y(y, multi_output\u001b[39m=\u001b[39mmulti_output, y_numeric\u001b[39m=\u001b[39my_numeric)\n\u001b[0;32m    <a href='file:///d%3A/ProgramData/Anaconda3/envs/ACA/lib/site-packages/sklearn/utils/validation.py?line=980'>981</a>\u001b[0m check_consistent_length(X, y)\n",
      "File \u001b[1;32md:\\ProgramData\\Anaconda3\\envs\\ACA\\lib\\site-packages\\sklearn\\utils\\validation.py:746\u001b[0m, in \u001b[0;36mcheck_array\u001b[1;34m(array, accept_sparse, accept_large_sparse, dtype, order, copy, force_all_finite, ensure_2d, allow_nd, ensure_min_samples, ensure_min_features, estimator)\u001b[0m\n\u001b[0;32m    <a href='file:///d%3A/ProgramData/Anaconda3/envs/ACA/lib/site-packages/sklearn/utils/validation.py?line=743'>744</a>\u001b[0m         array \u001b[39m=\u001b[39m array\u001b[39m.\u001b[39mastype(dtype, casting\u001b[39m=\u001b[39m\u001b[39m\"\u001b[39m\u001b[39munsafe\u001b[39m\u001b[39m\"\u001b[39m, copy\u001b[39m=\u001b[39m\u001b[39mFalse\u001b[39;00m)\n\u001b[0;32m    <a href='file:///d%3A/ProgramData/Anaconda3/envs/ACA/lib/site-packages/sklearn/utils/validation.py?line=744'>745</a>\u001b[0m     \u001b[39melse\u001b[39;00m:\n\u001b[1;32m--> <a href='file:///d%3A/ProgramData/Anaconda3/envs/ACA/lib/site-packages/sklearn/utils/validation.py?line=745'>746</a>\u001b[0m         array \u001b[39m=\u001b[39m np\u001b[39m.\u001b[39;49masarray(array, order\u001b[39m=\u001b[39;49morder, dtype\u001b[39m=\u001b[39;49mdtype)\n\u001b[0;32m    <a href='file:///d%3A/ProgramData/Anaconda3/envs/ACA/lib/site-packages/sklearn/utils/validation.py?line=746'>747</a>\u001b[0m \u001b[39mexcept\u001b[39;00m ComplexWarning \u001b[39mas\u001b[39;00m complex_warning:\n\u001b[0;32m    <a href='file:///d%3A/ProgramData/Anaconda3/envs/ACA/lib/site-packages/sklearn/utils/validation.py?line=747'>748</a>\u001b[0m     \u001b[39mraise\u001b[39;00m \u001b[39mValueError\u001b[39;00m(\n\u001b[0;32m    <a href='file:///d%3A/ProgramData/Anaconda3/envs/ACA/lib/site-packages/sklearn/utils/validation.py?line=748'>749</a>\u001b[0m         \u001b[39m\"\u001b[39m\u001b[39mComplex data not supported\u001b[39m\u001b[39m\\n\u001b[39;00m\u001b[39m{}\u001b[39;00m\u001b[39m\\n\u001b[39;00m\u001b[39m\"\u001b[39m\u001b[39m.\u001b[39mformat(array)\n\u001b[0;32m    <a href='file:///d%3A/ProgramData/Anaconda3/envs/ACA/lib/site-packages/sklearn/utils/validation.py?line=749'>750</a>\u001b[0m     ) \u001b[39mfrom\u001b[39;00m \u001b[39mcomplex_warning\u001b[39;00m\n",
      "\u001b[1;31mKeyboardInterrupt\u001b[0m: "
     ]
    }
   ],
   "source": [
    "from sklearn.pipeline import Pipeline\n",
    "from sklearn.feature_selection import SelectFromModel\n",
    "from sklearn.ensemble import RandomForestClassifier\n",
    "from sklearn.linear_model import LogisticRegression\n",
    "from sklearn.preprocessing import StandardScaler\n",
    "rs = 2\n",
    "# forest = RandomForestClassifier(random_state=rs, n_estimators=20)\n",
    "forest = Pipeline([\n",
    "    # ('standardscaler', StandardScaler()),\n",
    "    ('feature_selection', SelectFromModel(estimator=LogisticRegression(random_state=rs, max_iter=2000)).fit(x_train, y_train)),\n",
    "    ('classification', RandomForestClassifier(random_state=rs, n_estimators=20))\n",
    "])"
   ]
  },
  {
   "cell_type": "markdown",
   "metadata": {},
   "source": [
    "#### Treino do algoritmo"
   ]
  },
  {
   "cell_type": "code",
   "execution_count": 14,
   "metadata": {},
   "outputs": [
    {
     "name": "stderr",
     "output_type": "stream",
     "text": [
      "d:\\ProgramData\\Anaconda3\\envs\\ACA\\lib\\site-packages\\sklearn\\linear_model\\_logistic.py:814: ConvergenceWarning: lbfgs failed to converge (status=1):\n",
      "STOP: TOTAL NO. of ITERATIONS REACHED LIMIT.\n",
      "\n",
      "Increase the number of iterations (max_iter) or scale the data as shown in:\n",
      "    https://scikit-learn.org/stable/modules/preprocessing.html\n",
      "Please also refer to the documentation for alternative solver options:\n",
      "    https://scikit-learn.org/stable/modules/linear_model.html#logistic-regression\n",
      "  n_iter_i = _check_optimize_result(\n"
     ]
    }
   ],
   "source": [
    "forest.fit(x_train, y_train)\n",
    "y_pred = forest.predict(x_valid)"
   ]
  },
  {
   "cell_type": "markdown",
   "metadata": {},
   "source": [
    "#### Display das metrics (Accuracy, RoC, precision, recall)"
   ]
  },
  {
   "cell_type": "code",
   "execution_count": 15,
   "metadata": {},
   "outputs": [
    {
     "name": "stdout",
     "output_type": "stream",
     "text": [
      "Metrics: \n",
      " Acc: 0.982, ROC: 0.982\n",
      " PRE: 0.988, REC: 0.977\n"
     ]
    }
   ],
   "source": [
    "from lib.metrics import metrics\n",
    "metrics(y_pred, y_valid)"
   ]
  },
  {
   "cell_type": "markdown",
   "metadata": {},
   "source": [
    "##### Load dataset de teste"
   ]
  },
  {
   "cell_type": "code",
   "execution_count": 16,
   "metadata": {},
   "outputs": [],
   "source": [
    "df2 = pd.read_csv(path + \"/test.csv\")\n",
    "\n",
    "x_test = df2.iloc[:, :-1]\n",
    "y_pred = forest.predict(x_test)"
   ]
  },
  {
   "cell_type": "markdown",
   "metadata": {},
   "source": [
    "#### Exporta resultado para um arquivo .csv"
   ]
  },
  {
   "cell_type": "code",
   "execution_count": 18,
   "metadata": {},
   "outputs": [],
   "source": [
    "from lib.data import export_results\n",
    "result = pd.DataFrame(data={\n",
    "        \"Id\": range(y_pred.shape[0]),\n",
    "        \"Category\": y_pred.astype(int)\n",
    "    }, index=None)\n",
    "\n",
    "result.to_csv(\"result.csv\", index=None)"
   ]
  }
 ],
 "metadata": {
  "interpreter": {
   "hash": "8abdb4fc4f46750fd86fb77f239c6ff70e435aa065a37b0dbbb4fe7fbbc184de"
  },
  "kernelspec": {
   "display_name": "Python 3.9.12 ('ACA')",
   "language": "python",
   "name": "python3"
  },
  "language_info": {
   "codemirror_mode": {
    "name": "ipython",
    "version": 3
   },
   "file_extension": ".py",
   "mimetype": "text/x-python",
   "name": "python",
   "nbconvert_exporter": "python",
   "pygments_lexer": "ipython3",
   "version": "3.9.12"
  }
 },
 "nbformat": 4,
 "nbformat_minor": 4
}
