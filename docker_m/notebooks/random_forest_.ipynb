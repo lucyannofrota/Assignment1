{
 "cells": [
  {
   "cell_type": "code",
   "execution_count": 1,
   "metadata": {},
   "outputs": [],
   "source": [
    "import cudf\n",
    "import cupy\n",
    "import pandas as pd\n",
    "import numpy as np"
   ]
  },
  {
   "cell_type": "code",
   "execution_count": 2,
   "metadata": {},
   "outputs": [],
   "source": [
    "from lib.data import load_dataset\n",
    "\n",
    "x_train, y_train, x_test, y_test = load_dataset('dts/train.csv')"
   ]
  },
  {
   "cell_type": "code",
   "execution_count": 3,
   "metadata": {},
   "outputs": [],
   "source": [
    "from sklearn.pipeline import Pipeline\n",
    "from sklearn.feature_selection import SelectFromModel\n",
    "from sklearn.tree import DecisionTreeClassifier\n",
    "from sklearn.ensemble import RandomForestClassifier\n",
    "rs = 2\n",
    "forest = Pipeline([\n",
    "    ('feature_selection', SelectFromModel(RandomForestClassifier( random_state=rs, n_estimators=10).fit(x_train, y_train))),\n",
    "    ('classification', RandomForestClassifier(random_state=rs, n_estimators=10))\n",
    "])"
   ]
  },
  {
   "cell_type": "code",
   "execution_count": 4,
   "metadata": {},
   "outputs": [],
   "source": [
    "forest.fit(x_train, y_train)\n",
    "y_pred = forest.predict(x_test)"
   ]
  },
  {
   "cell_type": "code",
   "execution_count": 5,
   "metadata": {},
   "outputs": [
    {
     "name": "stdout",
     "output_type": "stream",
     "text": [
      "Metrics: \n",
      " Acc: 0.95, ROC: 0.95\n",
      " PRE: 0.97, REC: 0.92\n"
     ]
    }
   ],
   "source": [
    "from lib.metrics import metrics\n",
    "metrics(y_pred, y_test)\n"
   ]
  },
  {
   "cell_type": "code",
   "execution_count": null,
   "metadata": {},
   "outputs": [],
   "source": []
  },
  {
   "cell_type": "code",
   "execution_count": 6,
   "metadata": {},
   "outputs": [],
   "source": [
    "df2 = pd.read_csv(\"dts/test.csv\")\n",
    "\n",
    "x_test = df2.iloc[:, :-1]\n",
    "y_pred = forest.predict(x_test)"
   ]
  },
  {
   "cell_type": "code",
   "execution_count": null,
   "metadata": {},
   "outputs": [],
   "source": []
  },
  {
   "cell_type": "code",
   "execution_count": 7,
   "metadata": {},
   "outputs": [
    {
     "data": {
      "text/plain": [
       "(2000, 784)"
      ]
     },
     "execution_count": 7,
     "metadata": {},
     "output_type": "execute_result"
    }
   ],
   "source": [
    "x_test.shape"
   ]
  },
  {
   "cell_type": "code",
   "execution_count": 8,
   "metadata": {},
   "outputs": [],
   "source": [
    "from lib.data import export_results\n",
    "result = pd.DataFrame(data={\n",
    "        \"Id\": range(y_pred.shape[0]),\n",
    "        \"Category\": y_pred.astype(int)\n",
    "    }, index=None)\n",
    "\n",
    "result.to_csv(\"result.csv\", index=None)\n",
    "# export_results(y_pred)"
   ]
  },
  {
   "cell_type": "code",
   "execution_count": 9,
   "metadata": {},
   "outputs": [],
   "source": [
    "# import time\n",
    "# from sklearn.inspection import permutation_importance\n",
    "# from sklearn.tree import DecisionTreeClassifier\n",
    "\n",
    "# clf = DecisionTreeClassifier(random_state=rs)\n",
    "# clf.fit(x_train, y_train)\n",
    "\n",
    "# importance = clf.feature_importances_\n",
    "\n",
    "# # for i,v in enumerate(importance):\n",
    "# # \tprint('Feature: %0d, Score: %.5f' % (i,v))"
   ]
  },
  {
   "cell_type": "code",
   "execution_count": 10,
   "metadata": {},
   "outputs": [],
   "source": [
    "# from sklearn.feature_selection import SelectFromModel\n",
    "\n",
    "# model = SelectFromModel(DecisionTreeClassifier( random_state=rs).fit(x_train, y_train), prefit=True)\n",
    "# x_new = model.transform(x_train)\n",
    "# clf.fit(x_new, y_train)\n",
    "# x_new_test = model.transform(x_test)\n",
    "# y_pred = clf.predict(x_new_test)\n"
   ]
  },
  {
   "cell_type": "code",
   "execution_count": null,
   "metadata": {},
   "outputs": [],
   "source": []
  }
 ],
 "metadata": {
  "kernelspec": {
   "display_name": "Python 3",
   "language": "python",
   "name": "python3"
  },
  "language_info": {
   "codemirror_mode": {
    "name": "ipython",
    "version": 3
   },
   "file_extension": ".py",
   "mimetype": "text/x-python",
   "name": "python",
   "nbconvert_exporter": "python",
   "pygments_lexer": "ipython3",
   "version": "3.7.10"
  }
 },
 "nbformat": 4,
 "nbformat_minor": 4
}
