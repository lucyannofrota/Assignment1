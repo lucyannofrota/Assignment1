{
 "cells": [
  {
   "cell_type": "markdown",
   "metadata": {},
   "source": [
    "# Imports"
   ]
  },
  {
   "cell_type": "code",
   "execution_count": 2,
   "metadata": {},
   "outputs": [],
   "source": [
    "from tools import load_dataset as ldts\n",
    "from tools import feature_name_gen as fng\n",
    "import feature_extraction as fe\n",
    "import pandas as pd\n",
    "import numpy as np"
   ]
  },
  {
   "cell_type": "markdown",
   "metadata": {},
   "source": [
    "## Load Images"
   ]
  },
  {
   "cell_type": "code",
   "execution_count": 5,
   "metadata": {},
   "outputs": [],
   "source": [
    "dts_path = 'test_dts/'\n",
    "\n",
    "imgs, labels = ldts.load_dataset(dts_path)"
   ]
  },
  {
   "cell_type": "markdown",
   "metadata": {},
   "source": [
    "### Create Dataframe\n",
    "\n",
    "Img (784) | Label (1)"
   ]
  },
  {
   "cell_type": "code",
   "execution_count": 73,
   "metadata": {},
   "outputs": [
    {
     "name": "stdout",
     "output_type": "stream",
     "text": [
      "Data shape:  (30, 784)\n",
      "Dataframe shape:  (30, 785)\n"
     ]
    }
   ],
   "source": [
    "# print(imgs[0])\n",
    "S_images = []\n",
    "for img in imgs:\n",
    "    S_images.append(fe.feature_SerializedImg(img=imgs[0]))\n",
    "\n",
    "S_images = np.array(S_images)\n",
    "print(\"Data shape: \",S_images.shape)\n",
    "\n",
    "df = pd.DataFrame(S_images) # Images\n",
    "temp_df = pd.DataFrame(labels)\n",
    "temp_df.columns = [\"Label\"]\n",
    "df.columns = fng.gen_name(\"img\", imgs[0].shape)\n",
    "df = pd.concat([df,temp_df],axis=1)\n",
    "print(\"Dataframe shape: \", df.shape)"
   ]
  },
  {
   "cell_type": "markdown",
   "metadata": {},
   "source": [
    "## Extract New Features and add to the Dataframe"
   ]
  }
 ],
 "metadata": {
  "interpreter": {
   "hash": "6ec01e77c96c9171e407cfb31889f67e9dc04066a09f3d98ca88bf47e6432c95"
  },
  "kernelspec": {
   "display_name": "Python 3.8.12 ('ACA')",
   "language": "python",
   "name": "python3"
  },
  "language_info": {
   "codemirror_mode": {
    "name": "ipython",
    "version": 3
   },
   "file_extension": ".py",
   "mimetype": "text/x-python",
   "name": "python",
   "nbconvert_exporter": "python",
   "pygments_lexer": "ipython3",
   "version": "3.8.12"
  },
  "orig_nbformat": 4
 },
 "nbformat": 4,
 "nbformat_minor": 2
}
